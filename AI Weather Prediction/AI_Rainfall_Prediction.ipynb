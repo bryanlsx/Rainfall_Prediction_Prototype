{
  "cells": [
    {
      "cell_type": "markdown",
      "metadata": {
        "id": "4ygve1kqy-Uq"
      },
      "source": [
        "## Preprocessing Data"
      ]
    },
    {
      "cell_type": "code",
      "execution_count": null,
      "metadata": {
        "id": "HBzsDBOAzVBH"
      },
      "outputs": [],
      "source": [
        "import pandas as pd\n",
        "import numpy as np\n",
        "from sklearn import svm\n",
        "from sklearn.model_selection import GridSearchCV\n",
        "from sklearn.model_selection import train_test_split\n",
        "\n",
        "from sklearn.metrics import classification_report, accuracy_score, confusion_matrix\n",
        "\n",
        "import numpy as np\n",
        "import matplotlib.pyplot as plt\n",
        "import seaborn as sns"
      ]
    },
    {
      "cell_type": "code",
      "execution_count": null,
      "metadata": {
        "id": "OtBzigfzzZ9v"
      },
      "outputs": [],
      "source": [
        "\n",
        "#from google.colab import files\n",
        "#uploaded = files.upload()"
      ]
    },
    {
      "cell_type": "code",
      "execution_count": null,
      "metadata": {
        "colab": {
          "base_uri": "https://localhost:8080/",
          "height": 299
        },
        "id": "ClFNtxuUzdlb",
        "outputId": "caebf31b-80d7-46a6-c831-c1d03f0c4232"
      },
      "outputs": [
        {
          "data": {
            "text/html": [
              "<div>\n",
              "<style scoped>\n",
              "    .dataframe tbody tr th:only-of-type {\n",
              "        vertical-align: middle;\n",
              "    }\n",
              "\n",
              "    .dataframe tbody tr th {\n",
              "        vertical-align: top;\n",
              "    }\n",
              "\n",
              "    .dataframe thead th {\n",
              "        text-align: right;\n",
              "    }\n",
              "</style>\n",
              "<table border=\"1\" class=\"dataframe\">\n",
              "  <thead>\n",
              "    <tr style=\"text-align: right;\">\n",
              "      <th></th>\n",
              "      <th>Date</th>\n",
              "      <th>TempHighF</th>\n",
              "      <th>TempAvgF</th>\n",
              "      <th>TempLowF</th>\n",
              "      <th>DewPointHighF</th>\n",
              "      <th>DewPointAvgF</th>\n",
              "      <th>DewPointLowF</th>\n",
              "      <th>HumidityHighPercent</th>\n",
              "      <th>HumidityAvgPercent</th>\n",
              "      <th>HumidityLowPercent</th>\n",
              "      <th>...</th>\n",
              "      <th>SeaLevelPressureAvgInches</th>\n",
              "      <th>SeaLevelPressureLowInches</th>\n",
              "      <th>VisibilityHighMiles</th>\n",
              "      <th>VisibilityAvgMiles</th>\n",
              "      <th>VisibilityLowMiles</th>\n",
              "      <th>WindHighMPH</th>\n",
              "      <th>WindAvgMPH</th>\n",
              "      <th>WindGustMPH</th>\n",
              "      <th>PrecipitationSumInches</th>\n",
              "      <th>Events</th>\n",
              "    </tr>\n",
              "  </thead>\n",
              "  <tbody>\n",
              "    <tr>\n",
              "      <th>0</th>\n",
              "      <td>2013-12-21</td>\n",
              "      <td>74</td>\n",
              "      <td>60</td>\n",
              "      <td>45</td>\n",
              "      <td>67</td>\n",
              "      <td>49</td>\n",
              "      <td>43</td>\n",
              "      <td>93</td>\n",
              "      <td>75</td>\n",
              "      <td>57</td>\n",
              "      <td>...</td>\n",
              "      <td>29.68</td>\n",
              "      <td>29.59</td>\n",
              "      <td>10</td>\n",
              "      <td>7</td>\n",
              "      <td>2</td>\n",
              "      <td>20</td>\n",
              "      <td>4</td>\n",
              "      <td>31</td>\n",
              "      <td>0.46</td>\n",
              "      <td>Rain , Thunderstorm</td>\n",
              "    </tr>\n",
              "    <tr>\n",
              "      <th>1</th>\n",
              "      <td>2013-12-22</td>\n",
              "      <td>56</td>\n",
              "      <td>48</td>\n",
              "      <td>39</td>\n",
              "      <td>43</td>\n",
              "      <td>36</td>\n",
              "      <td>28</td>\n",
              "      <td>93</td>\n",
              "      <td>68</td>\n",
              "      <td>43</td>\n",
              "      <td>...</td>\n",
              "      <td>30.13</td>\n",
              "      <td>29.87</td>\n",
              "      <td>10</td>\n",
              "      <td>10</td>\n",
              "      <td>5</td>\n",
              "      <td>16</td>\n",
              "      <td>6</td>\n",
              "      <td>25</td>\n",
              "      <td>0</td>\n",
              "      <td></td>\n",
              "    </tr>\n",
              "    <tr>\n",
              "      <th>2</th>\n",
              "      <td>2013-12-23</td>\n",
              "      <td>58</td>\n",
              "      <td>45</td>\n",
              "      <td>32</td>\n",
              "      <td>31</td>\n",
              "      <td>27</td>\n",
              "      <td>23</td>\n",
              "      <td>76</td>\n",
              "      <td>52</td>\n",
              "      <td>27</td>\n",
              "      <td>...</td>\n",
              "      <td>30.49</td>\n",
              "      <td>30.41</td>\n",
              "      <td>10</td>\n",
              "      <td>10</td>\n",
              "      <td>10</td>\n",
              "      <td>8</td>\n",
              "      <td>3</td>\n",
              "      <td>12</td>\n",
              "      <td>0</td>\n",
              "      <td></td>\n",
              "    </tr>\n",
              "    <tr>\n",
              "      <th>3</th>\n",
              "      <td>2013-12-24</td>\n",
              "      <td>61</td>\n",
              "      <td>46</td>\n",
              "      <td>31</td>\n",
              "      <td>36</td>\n",
              "      <td>28</td>\n",
              "      <td>21</td>\n",
              "      <td>89</td>\n",
              "      <td>56</td>\n",
              "      <td>22</td>\n",
              "      <td>...</td>\n",
              "      <td>30.45</td>\n",
              "      <td>30.3</td>\n",
              "      <td>10</td>\n",
              "      <td>10</td>\n",
              "      <td>7</td>\n",
              "      <td>12</td>\n",
              "      <td>4</td>\n",
              "      <td>20</td>\n",
              "      <td>0</td>\n",
              "      <td></td>\n",
              "    </tr>\n",
              "    <tr>\n",
              "      <th>4</th>\n",
              "      <td>2013-12-25</td>\n",
              "      <td>58</td>\n",
              "      <td>50</td>\n",
              "      <td>41</td>\n",
              "      <td>44</td>\n",
              "      <td>40</td>\n",
              "      <td>36</td>\n",
              "      <td>86</td>\n",
              "      <td>71</td>\n",
              "      <td>56</td>\n",
              "      <td>...</td>\n",
              "      <td>30.33</td>\n",
              "      <td>30.27</td>\n",
              "      <td>10</td>\n",
              "      <td>10</td>\n",
              "      <td>7</td>\n",
              "      <td>10</td>\n",
              "      <td>2</td>\n",
              "      <td>16</td>\n",
              "      <td>T</td>\n",
              "      <td></td>\n",
              "    </tr>\n",
              "  </tbody>\n",
              "</table>\n",
              "<p>5 rows × 21 columns</p>\n",
              "</div>"
            ],
            "text/plain": [
              "         Date  TempHighF  TempAvgF  TempLowF DewPointHighF DewPointAvgF  \\\n",
              "0  2013-12-21         74        60        45            67           49   \n",
              "1  2013-12-22         56        48        39            43           36   \n",
              "2  2013-12-23         58        45        32            31           27   \n",
              "3  2013-12-24         61        46        31            36           28   \n",
              "4  2013-12-25         58        50        41            44           40   \n",
              "\n",
              "  DewPointLowF HumidityHighPercent HumidityAvgPercent HumidityLowPercent  ...  \\\n",
              "0           43                  93                 75                 57  ...   \n",
              "1           28                  93                 68                 43  ...   \n",
              "2           23                  76                 52                 27  ...   \n",
              "3           21                  89                 56                 22  ...   \n",
              "4           36                  86                 71                 56  ...   \n",
              "\n",
              "  SeaLevelPressureAvgInches SeaLevelPressureLowInches VisibilityHighMiles  \\\n",
              "0                     29.68                     29.59                  10   \n",
              "1                     30.13                     29.87                  10   \n",
              "2                     30.49                     30.41                  10   \n",
              "3                     30.45                      30.3                  10   \n",
              "4                     30.33                     30.27                  10   \n",
              "\n",
              "  VisibilityAvgMiles VisibilityLowMiles WindHighMPH WindAvgMPH WindGustMPH  \\\n",
              "0                  7                  2          20          4          31   \n",
              "1                 10                  5          16          6          25   \n",
              "2                 10                 10           8          3          12   \n",
              "3                 10                  7          12          4          20   \n",
              "4                 10                  7          10          2          16   \n",
              "\n",
              "  PrecipitationSumInches               Events  \n",
              "0                   0.46  Rain , Thunderstorm  \n",
              "1                      0                       \n",
              "2                      0                       \n",
              "3                      0                       \n",
              "4                      T                       \n",
              "\n",
              "[5 rows x 21 columns]"
            ]
          },
          "execution_count": 43,
          "metadata": {},
          "output_type": "execute_result"
        }
      ],
      "source": [
        "#dataset\n",
        "weather = pd.read_csv('austin_weather.csv')\n",
        "weather.head()"
      ]
    },
    {
      "cell_type": "code",
      "execution_count": null,
      "metadata": {
        "id": "p_gDQOHBtKZd"
      },
      "outputs": [],
      "source": [
        "weather = weather.drop(['Date','Events'],axis=1)"
      ]
    },
    {
      "cell_type": "code",
      "execution_count": null,
      "metadata": {
        "colab": {
          "base_uri": "https://localhost:8080/"
        },
        "id": "f-q2SE3Szfhs",
        "outputId": "10a6a12f-1158-42a9-9a7f-0afef3fd52a3"
      },
      "outputs": [
        {
          "data": {
            "text/plain": [
              "Index(['TempHighF', 'TempAvgF', 'TempLowF', 'DewPointHighF', 'DewPointAvgF',\n",
              "       'DewPointLowF', 'HumidityHighPercent', 'HumidityAvgPercent',\n",
              "       'HumidityLowPercent', 'SeaLevelPressureHighInches',\n",
              "       'SeaLevelPressureAvgInches', 'SeaLevelPressureLowInches',\n",
              "       'VisibilityHighMiles', 'VisibilityAvgMiles', 'VisibilityLowMiles',\n",
              "       'WindHighMPH', 'WindAvgMPH', 'WindGustMPH', 'PrecipitationSumInches'],\n",
              "      dtype='object')"
            ]
          },
          "execution_count": 45,
          "metadata": {},
          "output_type": "execute_result"
        }
      ],
      "source": [
        "weather.columns"
      ]
    },
    {
      "cell_type": "code",
      "execution_count": null,
      "metadata": {
        "colab": {
          "base_uri": "https://localhost:8080/",
          "height": 270
        },
        "id": "-PVguLiKzu1k",
        "outputId": "e97c78ef-eaa6-481f-c8b2-c8be98852e6f"
      },
      "outputs": [
        {
          "data": {
            "text/html": [
              "<div>\n",
              "<style scoped>\n",
              "    .dataframe tbody tr th:only-of-type {\n",
              "        vertical-align: middle;\n",
              "    }\n",
              "\n",
              "    .dataframe tbody tr th {\n",
              "        vertical-align: top;\n",
              "    }\n",
              "\n",
              "    .dataframe thead th {\n",
              "        text-align: right;\n",
              "    }\n",
              "</style>\n",
              "<table border=\"1\" class=\"dataframe\">\n",
              "  <thead>\n",
              "    <tr style=\"text-align: right;\">\n",
              "      <th></th>\n",
              "      <th>TempHighF</th>\n",
              "      <th>TempAvgF</th>\n",
              "      <th>TempLowF</th>\n",
              "      <th>DewPointHighF</th>\n",
              "      <th>DewPointAvgF</th>\n",
              "      <th>DewPointLowF</th>\n",
              "      <th>HumidityHighPercent</th>\n",
              "      <th>HumidityAvgPercent</th>\n",
              "      <th>HumidityLowPercent</th>\n",
              "      <th>SeaLevelPressureHighInches</th>\n",
              "      <th>SeaLevelPressureAvgInches</th>\n",
              "      <th>SeaLevelPressureLowInches</th>\n",
              "      <th>VisibilityHighMiles</th>\n",
              "      <th>VisibilityAvgMiles</th>\n",
              "      <th>VisibilityLowMiles</th>\n",
              "      <th>WindHighMPH</th>\n",
              "      <th>WindAvgMPH</th>\n",
              "      <th>WindGustMPH</th>\n",
              "      <th>PrecipitationSumInches</th>\n",
              "    </tr>\n",
              "  </thead>\n",
              "  <tbody>\n",
              "    <tr>\n",
              "      <th>0</th>\n",
              "      <td>74</td>\n",
              "      <td>60</td>\n",
              "      <td>45</td>\n",
              "      <td>67</td>\n",
              "      <td>49</td>\n",
              "      <td>43</td>\n",
              "      <td>93</td>\n",
              "      <td>75</td>\n",
              "      <td>57</td>\n",
              "      <td>29.86</td>\n",
              "      <td>29.68</td>\n",
              "      <td>29.59</td>\n",
              "      <td>10</td>\n",
              "      <td>7</td>\n",
              "      <td>2</td>\n",
              "      <td>20</td>\n",
              "      <td>4</td>\n",
              "      <td>31</td>\n",
              "      <td>0.46</td>\n",
              "    </tr>\n",
              "    <tr>\n",
              "      <th>1</th>\n",
              "      <td>56</td>\n",
              "      <td>48</td>\n",
              "      <td>39</td>\n",
              "      <td>43</td>\n",
              "      <td>36</td>\n",
              "      <td>28</td>\n",
              "      <td>93</td>\n",
              "      <td>68</td>\n",
              "      <td>43</td>\n",
              "      <td>30.41</td>\n",
              "      <td>30.13</td>\n",
              "      <td>29.87</td>\n",
              "      <td>10</td>\n",
              "      <td>10</td>\n",
              "      <td>5</td>\n",
              "      <td>16</td>\n",
              "      <td>6</td>\n",
              "      <td>25</td>\n",
              "      <td>0</td>\n",
              "    </tr>\n",
              "    <tr>\n",
              "      <th>2</th>\n",
              "      <td>58</td>\n",
              "      <td>45</td>\n",
              "      <td>32</td>\n",
              "      <td>31</td>\n",
              "      <td>27</td>\n",
              "      <td>23</td>\n",
              "      <td>76</td>\n",
              "      <td>52</td>\n",
              "      <td>27</td>\n",
              "      <td>30.56</td>\n",
              "      <td>30.49</td>\n",
              "      <td>30.41</td>\n",
              "      <td>10</td>\n",
              "      <td>10</td>\n",
              "      <td>10</td>\n",
              "      <td>8</td>\n",
              "      <td>3</td>\n",
              "      <td>12</td>\n",
              "      <td>0</td>\n",
              "    </tr>\n",
              "    <tr>\n",
              "      <th>3</th>\n",
              "      <td>61</td>\n",
              "      <td>46</td>\n",
              "      <td>31</td>\n",
              "      <td>36</td>\n",
              "      <td>28</td>\n",
              "      <td>21</td>\n",
              "      <td>89</td>\n",
              "      <td>56</td>\n",
              "      <td>22</td>\n",
              "      <td>30.56</td>\n",
              "      <td>30.45</td>\n",
              "      <td>30.3</td>\n",
              "      <td>10</td>\n",
              "      <td>10</td>\n",
              "      <td>7</td>\n",
              "      <td>12</td>\n",
              "      <td>4</td>\n",
              "      <td>20</td>\n",
              "      <td>0</td>\n",
              "    </tr>\n",
              "    <tr>\n",
              "      <th>4</th>\n",
              "      <td>58</td>\n",
              "      <td>50</td>\n",
              "      <td>41</td>\n",
              "      <td>44</td>\n",
              "      <td>40</td>\n",
              "      <td>36</td>\n",
              "      <td>86</td>\n",
              "      <td>71</td>\n",
              "      <td>56</td>\n",
              "      <td>30.41</td>\n",
              "      <td>30.33</td>\n",
              "      <td>30.27</td>\n",
              "      <td>10</td>\n",
              "      <td>10</td>\n",
              "      <td>7</td>\n",
              "      <td>10</td>\n",
              "      <td>2</td>\n",
              "      <td>16</td>\n",
              "      <td>T</td>\n",
              "    </tr>\n",
              "  </tbody>\n",
              "</table>\n",
              "</div>"
            ],
            "text/plain": [
              "   TempHighF  TempAvgF  TempLowF DewPointHighF DewPointAvgF DewPointLowF  \\\n",
              "0         74        60        45            67           49           43   \n",
              "1         56        48        39            43           36           28   \n",
              "2         58        45        32            31           27           23   \n",
              "3         61        46        31            36           28           21   \n",
              "4         58        50        41            44           40           36   \n",
              "\n",
              "  HumidityHighPercent HumidityAvgPercent HumidityLowPercent  \\\n",
              "0                  93                 75                 57   \n",
              "1                  93                 68                 43   \n",
              "2                  76                 52                 27   \n",
              "3                  89                 56                 22   \n",
              "4                  86                 71                 56   \n",
              "\n",
              "  SeaLevelPressureHighInches SeaLevelPressureAvgInches  \\\n",
              "0                      29.86                     29.68   \n",
              "1                      30.41                     30.13   \n",
              "2                      30.56                     30.49   \n",
              "3                      30.56                     30.45   \n",
              "4                      30.41                     30.33   \n",
              "\n",
              "  SeaLevelPressureLowInches VisibilityHighMiles VisibilityAvgMiles  \\\n",
              "0                     29.59                  10                  7   \n",
              "1                     29.87                  10                 10   \n",
              "2                     30.41                  10                 10   \n",
              "3                      30.3                  10                 10   \n",
              "4                     30.27                  10                 10   \n",
              "\n",
              "  VisibilityLowMiles WindHighMPH WindAvgMPH WindGustMPH PrecipitationSumInches  \n",
              "0                  2          20          4          31                   0.46  \n",
              "1                  5          16          6          25                      0  \n",
              "2                 10           8          3          12                      0  \n",
              "3                  7          12          4          20                      0  \n",
              "4                  7          10          2          16                      T  "
            ]
          },
          "execution_count": 46,
          "metadata": {},
          "output_type": "execute_result"
        }
      ],
      "source": [
        "weather.head()"
      ]
    },
    {
      "cell_type": "markdown",
      "metadata": {
        "id": "qtMVa_pQ0VoV"
      },
      "source": [
        "\"-\"(missing data) value removal"
      ]
    },
    {
      "cell_type": "code",
      "execution_count": null,
      "metadata": {
        "colab": {
          "base_uri": "https://localhost:8080/",
          "height": 239
        },
        "id": "ofVvPcRez32o",
        "outputId": "cee600b2-2aeb-4d81-a4da-21d4682b61f7"
      },
      "outputs": [
        {
          "data": {
            "text/html": [
              "<div>\n",
              "<style scoped>\n",
              "    .dataframe tbody tr th:only-of-type {\n",
              "        vertical-align: middle;\n",
              "    }\n",
              "\n",
              "    .dataframe tbody tr th {\n",
              "        vertical-align: top;\n",
              "    }\n",
              "\n",
              "    .dataframe thead th {\n",
              "        text-align: right;\n",
              "    }\n",
              "</style>\n",
              "<table border=\"1\" class=\"dataframe\">\n",
              "  <thead>\n",
              "    <tr style=\"text-align: right;\">\n",
              "      <th></th>\n",
              "      <th>TempHighF</th>\n",
              "      <th>TempAvgF</th>\n",
              "      <th>TempLowF</th>\n",
              "      <th>DewPointHighF</th>\n",
              "      <th>DewPointAvgF</th>\n",
              "      <th>DewPointLowF</th>\n",
              "      <th>HumidityHighPercent</th>\n",
              "      <th>HumidityAvgPercent</th>\n",
              "      <th>HumidityLowPercent</th>\n",
              "      <th>SeaLevelPressureHighInches</th>\n",
              "      <th>SeaLevelPressureAvgInches</th>\n",
              "      <th>SeaLevelPressureLowInches</th>\n",
              "      <th>VisibilityHighMiles</th>\n",
              "      <th>VisibilityAvgMiles</th>\n",
              "      <th>VisibilityLowMiles</th>\n",
              "      <th>WindHighMPH</th>\n",
              "      <th>WindAvgMPH</th>\n",
              "      <th>WindGustMPH</th>\n",
              "      <th>PrecipitationSumInches</th>\n",
              "      <th>num_dashes</th>\n",
              "    </tr>\n",
              "  </thead>\n",
              "  <tbody>\n",
              "    <tr>\n",
              "      <th>176</th>\n",
              "      <td>91</td>\n",
              "      <td>83</td>\n",
              "      <td>74</td>\n",
              "      <td>-</td>\n",
              "      <td>-</td>\n",
              "      <td>-</td>\n",
              "      <td>-</td>\n",
              "      <td>-</td>\n",
              "      <td>-</td>\n",
              "      <td>29.98</td>\n",
              "      <td>29.9</td>\n",
              "      <td>29.87</td>\n",
              "      <td>-</td>\n",
              "      <td>-</td>\n",
              "      <td>-</td>\n",
              "      <td>14</td>\n",
              "      <td>9</td>\n",
              "      <td>23</td>\n",
              "      <td>0</td>\n",
              "      <td>9</td>\n",
              "    </tr>\n",
              "    <tr>\n",
              "      <th>596</th>\n",
              "      <td>103</td>\n",
              "      <td>89</td>\n",
              "      <td>74</td>\n",
              "      <td>-</td>\n",
              "      <td>-</td>\n",
              "      <td>-</td>\n",
              "      <td>100</td>\n",
              "      <td>65</td>\n",
              "      <td>29</td>\n",
              "      <td>-</td>\n",
              "      <td>-</td>\n",
              "      <td>-</td>\n",
              "      <td>-</td>\n",
              "      <td>-</td>\n",
              "      <td>-</td>\n",
              "      <td>-</td>\n",
              "      <td>-</td>\n",
              "      <td>-</td>\n",
              "      <td>0</td>\n",
              "      <td>12</td>\n",
              "    </tr>\n",
              "    <tr>\n",
              "      <th>597</th>\n",
              "      <td>105</td>\n",
              "      <td>90</td>\n",
              "      <td>74</td>\n",
              "      <td>-</td>\n",
              "      <td>-</td>\n",
              "      <td>-</td>\n",
              "      <td>100</td>\n",
              "      <td>62</td>\n",
              "      <td>24</td>\n",
              "      <td>-</td>\n",
              "      <td>-</td>\n",
              "      <td>-</td>\n",
              "      <td>-</td>\n",
              "      <td>-</td>\n",
              "      <td>-</td>\n",
              "      <td>14</td>\n",
              "      <td>6</td>\n",
              "      <td>20</td>\n",
              "      <td>0</td>\n",
              "      <td>9</td>\n",
              "    </tr>\n",
              "    <tr>\n",
              "      <th>598</th>\n",
              "      <td>105</td>\n",
              "      <td>90</td>\n",
              "      <td>75</td>\n",
              "      <td>-</td>\n",
              "      <td>-</td>\n",
              "      <td>-</td>\n",
              "      <td>-</td>\n",
              "      <td>-</td>\n",
              "      <td>-</td>\n",
              "      <td>-</td>\n",
              "      <td>-</td>\n",
              "      <td>-</td>\n",
              "      <td>-</td>\n",
              "      <td>-</td>\n",
              "      <td>-</td>\n",
              "      <td>-</td>\n",
              "      <td>-</td>\n",
              "      <td>-</td>\n",
              "      <td>0</td>\n",
              "      <td>15</td>\n",
              "    </tr>\n",
              "  </tbody>\n",
              "</table>\n",
              "</div>"
            ],
            "text/plain": [
              "     TempHighF  TempAvgF  TempLowF DewPointHighF DewPointAvgF DewPointLowF  \\\n",
              "176         91        83        74             -            -            -   \n",
              "596        103        89        74             -            -            -   \n",
              "597        105        90        74             -            -            -   \n",
              "598        105        90        75             -            -            -   \n",
              "\n",
              "    HumidityHighPercent HumidityAvgPercent HumidityLowPercent  \\\n",
              "176                   -                  -                  -   \n",
              "596                 100                 65                 29   \n",
              "597                 100                 62                 24   \n",
              "598                   -                  -                  -   \n",
              "\n",
              "    SeaLevelPressureHighInches SeaLevelPressureAvgInches  \\\n",
              "176                      29.98                      29.9   \n",
              "596                          -                         -   \n",
              "597                          -                         -   \n",
              "598                          -                         -   \n",
              "\n",
              "    SeaLevelPressureLowInches VisibilityHighMiles VisibilityAvgMiles  \\\n",
              "176                     29.87                   -                  -   \n",
              "596                         -                   -                  -   \n",
              "597                         -                   -                  -   \n",
              "598                         -                   -                  -   \n",
              "\n",
              "    VisibilityLowMiles WindHighMPH WindAvgMPH WindGustMPH  \\\n",
              "176                  -          14          9          23   \n",
              "596                  -           -          -           -   \n",
              "597                  -          14          6          20   \n",
              "598                  -           -          -           -   \n",
              "\n",
              "    PrecipitationSumInches  num_dashes  \n",
              "176                      0           9  \n",
              "596                      0          12  \n",
              "597                      0           9  \n",
              "598                      0          15  "
            ]
          },
          "execution_count": 47,
          "metadata": {},
          "output_type": "execute_result"
        }
      ],
      "source": [
        "columns_to_check = ['DewPointHighF','DewPointAvgF','DewPointLowF','HumidityHighPercent','HumidityAvgPercent','HumidityLowPercent','SeaLevelPressureHighInches','SeaLevelPressureAvgInches','SeaLevelPressureLowInches','VisibilityHighMiles','VisibilityAvgMiles','VisibilityLowMiles','WindHighMPH','WindAvgMPH','WindGustMPH']\n",
        "\n",
        "weather['num_dashes'] = weather[columns_to_check].apply(lambda row: (row == '-').sum(), axis=1)\n",
        "\n",
        "filtered_row = weather[weather['num_dashes'] > 7]\n",
        "filtered_row"
      ]
    },
    {
      "cell_type": "code",
      "execution_count": null,
      "metadata": {
        "id": "2rRZyUakz7xm"
      },
      "outputs": [],
      "source": [
        "# drop rows more than 7 '-' value\n",
        "filtered_indices = filtered_row.index\n",
        "weather = weather.drop(filtered_indices)"
      ]
    },
    {
      "cell_type": "code",
      "execution_count": null,
      "metadata": {
        "id": "GknXEr6Cz8JV"
      },
      "outputs": [],
      "source": [
        "#drop the num_dashes column\n",
        "weather.drop(weather.columns[-1], axis=1, inplace=True)"
      ]
    },
    {
      "cell_type": "code",
      "execution_count": null,
      "metadata": {
        "id": "q2m_gNZ6z9TP"
      },
      "outputs": [],
      "source": [
        "#replace '-' value with 0\n",
        "weather.replace(\"-\",0, inplace=True)"
      ]
    },
    {
      "cell_type": "markdown",
      "metadata": {
        "id": "YtG-QrJC0cWr"
      },
      "source": [
        "T Value Conversion in Precipitation"
      ]
    },
    {
      "cell_type": "code",
      "execution_count": null,
      "metadata": {
        "id": "e3ZF3Gzdz-ol"
      },
      "outputs": [],
      "source": [
        "#create the precipitationtrace column\n",
        "weather['PrecipitationTrace'] = weather['PrecipitationSumInches'].apply(lambda x: 1 if x=='T' else 0)"
      ]
    },
    {
      "cell_type": "code",
      "execution_count": null,
      "metadata": {
        "id": "OBNh6YR70AJF"
      },
      "outputs": [],
      "source": [
        "#replace T with 0\n",
        "weather['PrecipitationSumInches'].replace('T', 0, inplace=True)"
      ]
    },
    {
      "cell_type": "markdown",
      "metadata": {
        "id": "2H6qvOuiyQVf"
      },
      "source": [
        "Classifying rain based on precipitation range"
      ]
    },
    {
      "cell_type": "code",
      "execution_count": null,
      "metadata": {
        "colab": {
          "base_uri": "https://localhost:8080/"
        },
        "id": "2BDUyC9szwcG",
        "outputId": "af162d6a-cebc-4fa6-f5cf-089e61ffdddf"
      },
      "outputs": [
        {
          "name": "stderr",
          "output_type": "stream",
          "text": [
            "`np.int` is a deprecated alias for the builtin `int`. To silence this warning, use `int` by itself. Doing this will not modify any behavior and is safe. When replacing `np.int`, you may wish to use e.g. `np.int64` or `np.int32` to specify the precision. If you wish to review your current use, check the release note link for additional information.\n",
            "Deprecated in NumPy 1.20; for more details and guidance: https://numpy.org/devdocs/release/1.20.0-notes.html#deprecations\n",
            "`np.int` is a deprecated alias for the builtin `int`. To silence this warning, use `int` by itself. Doing this will not modify any behavior and is safe. When replacing `np.int`, you may wish to use e.g. `np.int64` or `np.int32` to specify the precision. If you wish to review your current use, check the release note link for additional information.\n",
            "Deprecated in NumPy 1.20; for more details and guidance: https://numpy.org/devdocs/release/1.20.0-notes.html#deprecations\n",
            "`np.int` is a deprecated alias for the builtin `int`. To silence this warning, use `int` by itself. Doing this will not modify any behavior and is safe. When replacing `np.int`, you may wish to use e.g. `np.int64` or `np.int32` to specify the precision. If you wish to review your current use, check the release note link for additional information.\n",
            "Deprecated in NumPy 1.20; for more details and guidance: https://numpy.org/devdocs/release/1.20.0-notes.html#deprecations\n",
            "`np.int` is a deprecated alias for the builtin `int`. To silence this warning, use `int` by itself. Doing this will not modify any behavior and is safe. When replacing `np.int`, you may wish to use e.g. `np.int64` or `np.int32` to specify the precision. If you wish to review your current use, check the release note link for additional information.\n",
            "Deprecated in NumPy 1.20; for more details and guidance: https://numpy.org/devdocs/release/1.20.0-notes.html#deprecations\n",
            "`np.int` is a deprecated alias for the builtin `int`. To silence this warning, use `int` by itself. Doing this will not modify any behavior and is safe. When replacing `np.int`, you may wish to use e.g. `np.int64` or `np.int32` to specify the precision. If you wish to review your current use, check the release note link for additional information.\n",
            "Deprecated in NumPy 1.20; for more details and guidance: https://numpy.org/devdocs/release/1.20.0-notes.html#deprecations\n",
            "`np.int` is a deprecated alias for the builtin `int`. To silence this warning, use `int` by itself. Doing this will not modify any behavior and is safe. When replacing `np.int`, you may wish to use e.g. `np.int64` or `np.int32` to specify the precision. If you wish to review your current use, check the release note link for additional information.\n",
            "Deprecated in NumPy 1.20; for more details and guidance: https://numpy.org/devdocs/release/1.20.0-notes.html#deprecations\n",
            "`np.float` is a deprecated alias for the builtin `float`. To silence this warning, use `float` by itself. Doing this will not modify any behavior and is safe. If you specifically wanted the numpy scalar type, use `np.float64` here.\n",
            "Deprecated in NumPy 1.20; for more details and guidance: https://numpy.org/devdocs/release/1.20.0-notes.html#deprecations\n",
            "`np.float` is a deprecated alias for the builtin `float`. To silence this warning, use `float` by itself. Doing this will not modify any behavior and is safe. If you specifically wanted the numpy scalar type, use `np.float64` here.\n",
            "Deprecated in NumPy 1.20; for more details and guidance: https://numpy.org/devdocs/release/1.20.0-notes.html#deprecations\n",
            "`np.float` is a deprecated alias for the builtin `float`. To silence this warning, use `float` by itself. Doing this will not modify any behavior and is safe. If you specifically wanted the numpy scalar type, use `np.float64` here.\n",
            "Deprecated in NumPy 1.20; for more details and guidance: https://numpy.org/devdocs/release/1.20.0-notes.html#deprecations\n",
            "`np.int` is a deprecated alias for the builtin `int`. To silence this warning, use `int` by itself. Doing this will not modify any behavior and is safe. When replacing `np.int`, you may wish to use e.g. `np.int64` or `np.int32` to specify the precision. If you wish to review your current use, check the release note link for additional information.\n",
            "Deprecated in NumPy 1.20; for more details and guidance: https://numpy.org/devdocs/release/1.20.0-notes.html#deprecations\n",
            "`np.int` is a deprecated alias for the builtin `int`. To silence this warning, use `int` by itself. Doing this will not modify any behavior and is safe. When replacing `np.int`, you may wish to use e.g. `np.int64` or `np.int32` to specify the precision. If you wish to review your current use, check the release note link for additional information.\n",
            "Deprecated in NumPy 1.20; for more details and guidance: https://numpy.org/devdocs/release/1.20.0-notes.html#deprecations\n",
            "`np.int` is a deprecated alias for the builtin `int`. To silence this warning, use `int` by itself. Doing this will not modify any behavior and is safe. When replacing `np.int`, you may wish to use e.g. `np.int64` or `np.int32` to specify the precision. If you wish to review your current use, check the release note link for additional information.\n",
            "Deprecated in NumPy 1.20; for more details and guidance: https://numpy.org/devdocs/release/1.20.0-notes.html#deprecations\n",
            "`np.int` is a deprecated alias for the builtin `int`. To silence this warning, use `int` by itself. Doing this will not modify any behavior and is safe. When replacing `np.int`, you may wish to use e.g. `np.int64` or `np.int32` to specify the precision. If you wish to review your current use, check the release note link for additional information.\n",
            "Deprecated in NumPy 1.20; for more details and guidance: https://numpy.org/devdocs/release/1.20.0-notes.html#deprecations\n",
            "`np.int` is a deprecated alias for the builtin `int`. To silence this warning, use `int` by itself. Doing this will not modify any behavior and is safe. When replacing `np.int`, you may wish to use e.g. `np.int64` or `np.int32` to specify the precision. If you wish to review your current use, check the release note link for additional information.\n",
            "Deprecated in NumPy 1.20; for more details and guidance: https://numpy.org/devdocs/release/1.20.0-notes.html#deprecations\n",
            "`np.int` is a deprecated alias for the builtin `int`. To silence this warning, use `int` by itself. Doing this will not modify any behavior and is safe. When replacing `np.int`, you may wish to use e.g. `np.int64` or `np.int32` to specify the precision. If you wish to review your current use, check the release note link for additional information.\n",
            "Deprecated in NumPy 1.20; for more details and guidance: https://numpy.org/devdocs/release/1.20.0-notes.html#deprecations\n",
            "`np.float` is a deprecated alias for the builtin `float`. To silence this warning, use `float` by itself. Doing this will not modify any behavior and is safe. If you specifically wanted the numpy scalar type, use `np.float64` here.\n",
            "Deprecated in NumPy 1.20; for more details and guidance: https://numpy.org/devdocs/release/1.20.0-notes.html#deprecations\n"
          ]
        }
      ],
      "source": [
        "weather['DewPointHighF'] = weather['DewPointHighF'].astype(np.int)\n",
        "weather['DewPointAvgF'] = weather['DewPointAvgF'].astype(np.int)\n",
        "weather['DewPointLowF'] = weather['DewPointLowF'].astype(np.int)\n",
        "weather['HumidityHighPercent'] = weather['HumidityHighPercent'].astype(np.int)\n",
        "weather['HumidityAvgPercent'] = weather['HumidityAvgPercent'].astype(np.int)\n",
        "weather['HumidityLowPercent'] = weather['HumidityLowPercent'].astype(np.int)\n",
        "weather['SeaLevelPressureHighInches'] = weather['SeaLevelPressureHighInches'].astype(np.float)\n",
        "weather['SeaLevelPressureAvgInches'] = weather['SeaLevelPressureAvgInches'].astype(np.float)\n",
        "weather['SeaLevelPressureLowInches'] = weather['SeaLevelPressureLowInches'].astype(np.float)\n",
        "weather['VisibilityHighMiles'] = weather['VisibilityHighMiles'].astype(np.int)\n",
        "weather['VisibilityAvgMiles'] = weather['VisibilityAvgMiles'].astype(np.int)\n",
        "weather['VisibilityLowMiles'] = weather['VisibilityLowMiles'].astype(np.int)\n",
        "weather['WindHighMPH'] = weather['WindHighMPH'].astype(np.int)\n",
        "weather['WindAvgMPH'] = weather['WindAvgMPH'].astype(np.int)\n",
        "weather['WindGustMPH'] = weather['WindGustMPH'].astype(np.int)\n",
        "weather['PrecipitationSumInches'] = weather['PrecipitationSumInches'].astype(np.float)\n",
        "# weather['Rain'] = weather['Events'].astype(np.int)"
      ]
    },
    {
      "cell_type": "code",
      "execution_count": null,
      "metadata": {
        "id": "03tCz_BKzzx_"
      },
      "outputs": [],
      "source": [
        "# long period\n",
        "weather['PrecipitateRange'] = pd.cut(weather['PrecipitationSumInches'], \n",
        "                                 bins=[-float('inf'),0.000,0.021, 0.157, float('inf')], \n",
        "                                 labels=['No Rain','Light', 'Moderate', 'Heavy'])"
      ]
    },
    {
      "cell_type": "code",
      "execution_count": null,
      "metadata": {
        "id": "7uub3O1cz2n5"
      },
      "outputs": [],
      "source": [
        "# long period\n",
        "from sklearn.preprocessing import LabelEncoder\n",
        "\n",
        "# Create a label encoder object\n",
        "le = LabelEncoder()\n",
        "\n",
        "# Define the encoding\n",
        "encoding = {'No Rain' : 0, 'Light': 1, 'Moderate': 2, 'Heavy': 3}\n",
        "\n",
        "# Fit the label encoder with the encoding\n",
        "le.fit(list(encoding.keys()))\n",
        "\n",
        "# Transform the actual column using the encoding\n",
        "weather['PrecipitateRange'] = weather['PrecipitateRange'].apply(lambda x: encoding[x])"
      ]
    },
    {
      "cell_type": "code",
      "source": [
        "import matplotlib.pyplot as plt\n",
        "import pandas as pd\n",
        "\n",
        "# Load your dataset into a Pandas DataFrame\n",
        "\n",
        "\n",
        "# Count the number of records for each label\n",
        "label_counts = weather['PrecipitateRange'].value_counts()\n",
        "\n",
        "# Create a bar chart to visualize the label distribution\n",
        "plt.bar(label_counts.index, label_counts.values)\n",
        "plt.xlabel('Label')\n",
        "plt.ylabel('Count')\n",
        "plt.show()"
      ],
      "metadata": {
        "id": "K1RMsniCBxTz"
      },
      "execution_count": null,
      "outputs": []
    },
    {
      "cell_type": "markdown",
      "metadata": {
        "id": "IBRGH2NO0kB8"
      },
      "source": [
        "Data Splitting (features and labels)"
      ]
    },
    {
      "cell_type": "code",
      "execution_count": null,
      "metadata": {
        "id": "TUtt1C6P0CSQ"
      },
      "outputs": [],
      "source": [
        "from sklearn.model_selection import train_test_split"
      ]
    },
    {
      "cell_type": "code",
      "execution_count": null,
      "metadata": {
        "colab": {
          "base_uri": "https://localhost:8080/"
        },
        "id": "Qvt4AXIMtBPL",
        "outputId": "b5e53e6d-e6c7-4383-e0da-8b28437d4aff"
      },
      "outputs": [
        {
          "data": {
            "text/plain": [
              "Index(['TempHighF', 'TempAvgF', 'TempLowF', 'DewPointHighF', 'DewPointAvgF',\n",
              "       'DewPointLowF', 'HumidityHighPercent', 'HumidityAvgPercent',\n",
              "       'HumidityLowPercent', 'SeaLevelPressureHighInches',\n",
              "       'SeaLevelPressureAvgInches', 'SeaLevelPressureLowInches',\n",
              "       'VisibilityHighMiles', 'VisibilityAvgMiles', 'VisibilityLowMiles',\n",
              "       'WindHighMPH', 'WindAvgMPH', 'WindGustMPH', 'PrecipitationSumInches',\n",
              "       'PrecipitationTrace', 'PrecipitateRange'],\n",
              "      dtype='object')"
            ]
          },
          "execution_count": 57,
          "metadata": {},
          "output_type": "execute_result"
        }
      ],
      "source": [
        "weather.columns"
      ]
    },
    {
      "cell_type": "code",
      "execution_count": null,
      "metadata": {
        "id": "C0cMfzJV0H9A"
      },
      "outputs": [],
      "source": [
        "# classification way\n",
        "x = weather.drop(['PrecipitateRange','PrecipitationTrace','PrecipitationSumInches'], axis=1)\n",
        "y = weather['PrecipitateRange']"
      ]
    },
    {
      "cell_type": "markdown",
      "metadata": {
        "id": "2my40xoP0_JJ"
      },
      "source": [
        "with date & seasonal (monthly) runs the convert to year & month functions first"
      ]
    },
    {
      "cell_type": "code",
      "execution_count": null,
      "metadata": {
        "id": "pA9_F7xR0KON"
      },
      "outputs": [],
      "source": [
        "X_train, X_test, y_train, y_test = train_test_split(x, y, test_size=0.2, shuffle = False)"
      ]
    },
    {
      "cell_type": "code",
      "execution_count": null,
      "metadata": {
        "colab": {
          "base_uri": "https://localhost:8080/"
        },
        "id": "2Tre5c9H0Laa",
        "outputId": "c4cf7f03-5514-45c0-83a5-0fdb05f0b0f6"
      },
      "outputs": [
        {
          "data": {
            "text/plain": [
              "TempHighF                        int64\n",
              "TempAvgF                         int64\n",
              "TempLowF                         int64\n",
              "DewPointHighF                    int32\n",
              "DewPointAvgF                     int32\n",
              "DewPointLowF                     int32\n",
              "HumidityHighPercent              int32\n",
              "HumidityAvgPercent               int32\n",
              "HumidityLowPercent               int32\n",
              "SeaLevelPressureHighInches     float64\n",
              "SeaLevelPressureAvgInches      float64\n",
              "SeaLevelPressureLowInches      float64\n",
              "VisibilityHighMiles              int32\n",
              "VisibilityAvgMiles               int32\n",
              "VisibilityLowMiles               int32\n",
              "WindHighMPH                      int32\n",
              "WindAvgMPH                       int32\n",
              "WindGustMPH                      int32\n",
              "PrecipitationSumInches         float64\n",
              "PrecipitationTrace               int64\n",
              "PrecipitateRange              category\n",
              "dtype: object"
            ]
          },
          "execution_count": 60,
          "metadata": {},
          "output_type": "execute_result"
        }
      ],
      "source": [
        "weather.dtypes"
      ]
    },
    {
      "cell_type": "markdown",
      "metadata": {
        "id": "sIT8zGaAxfrz"
      },
      "source": [
        "# Random Forest"
      ]
    },
    {
      "cell_type": "code",
      "execution_count": null,
      "metadata": {
        "id": "hUbuvAUhyxCM"
      },
      "outputs": [],
      "source": [
        "from sklearn.ensemble import RandomForestClassifier\n",
        "from sklearn.metrics import accuracy_score\n",
        "from sklearn import metrics"
      ]
    },
    {
      "cell_type": "code",
      "execution_count": null,
      "metadata": {
        "id": "TR2Ik8r_0o-u"
      },
      "outputs": [],
      "source": [
        "RF_model = RandomForestClassifier(n_estimators=100, random_state=0)\n",
        "\n",
        "\n",
        "\n",
        "# fit the model to the training set\n",
        "\n",
        "RF_model.fit(X_train, y_train)\n",
        "\n",
        "\n",
        "\n",
        "# Predict on the test set results\n",
        "\n",
        "y_pred_100 = RF_model.predict(X_test)\n",
        "\n"
      ]
    },
    {
      "cell_type": "code",
      "execution_count": null,
      "metadata": {
        "colab": {
          "base_uri": "https://localhost:8080/"
        },
        "id": "ijhc86NeQL-G",
        "outputId": "6be10c97-7ca4-4ff2-e6d3-1010cfcf6fa0"
      },
      "outputs": [
        {
          "name": "stdout",
          "output_type": "stream",
          "text": [
            "accuracy_score is  0.8403041825095057\n",
            "precision is  0.7700627318054163\n",
            "f1 score is  0.7995983081841684\n",
            "recall is  0.8403041825095057\n"
          ]
        },
        {
          "name": "stderr",
          "output_type": "stream",
          "text": [
            "Precision is ill-defined and being set to 0.0 in labels with no predicted samples. Use `zero_division` parameter to control this behavior.\n"
          ]
        }
      ],
      "source": [
        "print(\"accuracy_score is \",metrics.accuracy_score(y_test, y_pred_100))\n",
        "print(\"precision is \",metrics.precision_score(y_test, y_pred_100, average='weighted'))\n",
        "print(\"f1 score is \",metrics.f1_score(y_test, y_pred_100, average='weighted'))\n",
        "print(\"recall is \",metrics.recall_score(y_test, y_pred_100, average='weighted'))"
      ]
    },
    {
      "cell_type": "code",
      "execution_count": null,
      "metadata": {
        "id": "8tFQRP4oRAp3"
      },
      "outputs": [],
      "source": [
        "acc_RF = metrics.accuracy_score(y_test, y_pred_100)"
      ]
    },
    {
      "cell_type": "code",
      "execution_count": null,
      "metadata": {
        "colab": {
          "base_uri": "https://localhost:8080/"
        },
        "id": "siYnEFTJ0rC5",
        "outputId": "e6feb04e-6fc3-4e76-ad85-958adeb1ce29"
      },
      "outputs": [
        {
          "data": {
            "text/plain": [
              "VisibilityLowMiles            0.177858\n",
              "VisibilityAvgMiles            0.112455\n",
              "HumidityAvgPercent            0.093323\n",
              "HumidityLowPercent            0.077927\n",
              "WindGustMPH                   0.049690\n",
              "DewPointHighF                 0.049518\n",
              "HumidityHighPercent           0.048185\n",
              "TempHighF                     0.046399\n",
              "DewPointLowF                  0.045412\n",
              "TempAvgF                      0.040401\n",
              "SeaLevelPressureLowInches     0.038110\n",
              "SeaLevelPressureAvgInches     0.037846\n",
              "WindHighMPH                   0.037749\n",
              "TempLowF                      0.037242\n",
              "SeaLevelPressureHighInches    0.037177\n",
              "DewPointAvgF                  0.036841\n",
              "WindAvgMPH                    0.032173\n",
              "VisibilityHighMiles           0.001696\n",
              "dtype: float64"
            ]
          },
          "execution_count": 65,
          "metadata": {},
          "output_type": "execute_result"
        }
      ],
      "source": [
        "RF_feature = pd.Series(RF_model.feature_importances_, index=X_train.columns).sort_values(ascending=False)\n",
        "RF_feature"
      ]
    },
    {
      "cell_type": "markdown",
      "metadata": {
        "id": "hltBVWC1xf-L"
      },
      "source": [
        "# XGBoost"
      ]
    },
    {
      "cell_type": "code",
      "execution_count": null,
      "metadata": {
        "id": "JJ9MXjRtyxcF"
      },
      "outputs": [],
      "source": [
        "from sklearn import metrics"
      ]
    },
    {
      "cell_type": "code",
      "execution_count": null,
      "metadata": {
        "id": "ZEv0bzSX5wsO"
      },
      "outputs": [],
      "source": [
        "from xgboost import XGBClassifier\n",
        "# from sklearn.preprocessing import MinMaxScaler\n",
        "# # from sklearn.preprocessing import LabelEncoder\n",
        "# # le = LabelEncoder()\n",
        "# # y_train = le.fit_transform(y_train)\n",
        "\n",
        "XGB_model = XGBClassifier()\n",
        "# fit model\n",
        "XGB_model.fit(X_train, y_train)\n",
        "# make predictions\n",
        "preds_scale = XGB_model.predict(X_test)"
      ]
    },
    {
      "cell_type": "code",
      "execution_count": null,
      "metadata": {
        "colab": {
          "base_uri": "https://localhost:8080/"
        },
        "id": "ZCb2PnIC5xCL",
        "outputId": "23b61158-5e4b-40a1-a079-f1d3a99793c0"
      },
      "outputs": [
        {
          "name": "stdout",
          "output_type": "stream",
          "text": [
            "accuracy_score is  0.8517110266159695\n",
            "precision is  0.821398683959234\n",
            "f1 score is  0.8318771949297102\n",
            "recall is  0.8517110266159695\n"
          ]
        }
      ],
      "source": [
        "print(\"accuracy_score is \",metrics.accuracy_score(y_test, preds_scale))\n",
        "print(\"precision is \",metrics.precision_score(y_test, preds_scale,average='weighted'))\n",
        "print(\"f1 score is \",metrics.f1_score(y_test, preds_scale, average='weighted'))\n",
        "print(\"recall is \",metrics.recall_score(y_test, preds_scale, average='weighted'))"
      ]
    },
    {
      "cell_type": "code",
      "execution_count": null,
      "metadata": {
        "id": "Etno6X4VRHYh"
      },
      "outputs": [],
      "source": [
        "acc_XGBoost = metrics.accuracy_score(y_test, preds_scale)"
      ]
    },
    {
      "cell_type": "code",
      "execution_count": null,
      "metadata": {
        "colab": {
          "base_uri": "https://localhost:8080/"
        },
        "id": "3GWcns9JxQYY",
        "outputId": "df0822dc-fa9a-4a11-87bd-3b2514066e1b"
      },
      "outputs": [
        {
          "data": {
            "text/plain": [
              "VisibilityLowMiles            0.315460\n",
              "TempAvgF                      0.059682\n",
              "DewPointLowF                  0.056661\n",
              "DewPointHighF                 0.052371\n",
              "HumidityLowPercent            0.049692\n",
              "HumidityAvgPercent            0.048378\n",
              "HumidityHighPercent           0.045591\n",
              "WindAvgMPH                    0.042296\n",
              "TempHighF                     0.042144\n",
              "WindHighMPH                   0.039937\n",
              "WindGustMPH                   0.039415\n",
              "VisibilityAvgMiles            0.037280\n",
              "DewPointAvgF                  0.036506\n",
              "SeaLevelPressureHighInches    0.036120\n",
              "TempLowF                      0.035781\n",
              "SeaLevelPressureAvgInches     0.031623\n",
              "SeaLevelPressureLowInches     0.031063\n",
              "VisibilityHighMiles           0.000000\n",
              "dtype: float32"
            ]
          },
          "execution_count": 70,
          "metadata": {},
          "output_type": "execute_result"
        }
      ],
      "source": [
        "XGB_feature = pd.Series(XGB_model.feature_importances_, index=X_train.columns).sort_values(ascending=False)\n",
        "XGB_feature"
      ]
    },
    {
      "cell_type": "markdown",
      "metadata": {
        "id": "ODYYkuy6w1Bl"
      },
      "source": [
        "# SVM\n"
      ]
    },
    {
      "cell_type": "code",
      "execution_count": null,
      "metadata": {
        "id": "llijbeR6yv3O"
      },
      "outputs": [],
      "source": [
        "from sklearn.svm import SVC, SVR\n",
        "from sklearn.preprocessing import StandardScaler, MinMaxScaler"
      ]
    },
    {
      "cell_type": "code",
      "execution_count": null,
      "metadata": {
        "id": "2ZtQd-5m4-JP"
      },
      "outputs": [],
      "source": [
        "SVM_model = SVC(kernel='rbf', C=1).fit(X_train, y_train)"
      ]
    },
    {
      "cell_type": "code",
      "execution_count": null,
      "metadata": {
        "id": "xMkb8sKf5AY_"
      },
      "outputs": [],
      "source": [
        "y_pred = SVM_model.predict(X_test)"
      ]
    },
    {
      "cell_type": "code",
      "execution_count": null,
      "metadata": {
        "colab": {
          "base_uri": "https://localhost:8080/"
        },
        "id": "hdEco9Ys5HC0",
        "outputId": "8f82ae3c-66ad-456e-942f-59dc4ba4b7eb"
      },
      "outputs": [
        {
          "name": "stdout",
          "output_type": "stream",
          "text": [
            "accuracy_score is  0.8136882129277566\n",
            "precision is  0.7145879379759127\n",
            "f1 score is  0.7590245064264508\n",
            "recall is  0.8136882129277566\n"
          ]
        },
        {
          "name": "stderr",
          "output_type": "stream",
          "text": [
            "Precision is ill-defined and being set to 0.0 in labels with no predicted samples. Use `zero_division` parameter to control this behavior.\n"
          ]
        }
      ],
      "source": [
        "print(\"accuracy_score is \",metrics.accuracy_score(y_test, y_pred))\n",
        "print(\"precision is \",metrics.precision_score(y_test, y_pred, average='weighted'))\n",
        "print(\"f1 score is \",metrics.f1_score(y_test, y_pred, average='weighted'))\n",
        "print(\"recall is \",metrics.recall_score(y_test, y_pred, average='weighted'))"
      ]
    },
    {
      "cell_type": "code",
      "execution_count": null,
      "metadata": {
        "id": "PgOXMvApQ17W"
      },
      "outputs": [],
      "source": [
        "acc_SVM = metrics.accuracy_score(y_test, y_pred)"
      ]
    },
    {
      "cell_type": "code",
      "execution_count": null,
      "metadata": {
        "id": "Xxtl1Nw8card"
      },
      "outputs": [],
      "source": [
        "from sklearn.inspection import permutation_importance"
      ]
    },
    {
      "cell_type": "code",
      "execution_count": null,
      "metadata": {
        "id": "r_0WXIqBfq2p"
      },
      "outputs": [],
      "source": [
        "SVM_feature = permutation_importance(SVM_model, X_test, y_test)\n",
        "feature_name = weather.columns"
      ]
    },
    {
      "cell_type": "code",
      "execution_count": null,
      "metadata": {
        "id": "UV4sde-Uksd5"
      },
      "outputs": [],
      "source": [
        "features = np.array(feature_name)\n",
        "sorted_idx = SVM_feature.importances_mean.argsort()"
      ]
    },
    {
      "cell_type": "code",
      "execution_count": null,
      "metadata": {
        "colab": {
          "base_uri": "https://localhost:8080/"
        },
        "id": "hnA5p9mmoioW",
        "outputId": "c93d9b33-a832-4336-98f3-8ad8fc4e2b59"
      },
      "outputs": [
        {
          "data": {
            "text/plain": [
              "HumidityLowPercent            0.023574\n",
              "HumidityAvgPercent            0.013688\n",
              "DewPointHighF                 0.009125\n",
              "HumidityHighPercent           0.009125\n",
              "WindGustMPH                   0.005323\n",
              "VisibilityLowMiles            0.005323\n",
              "TempHighF                     0.003802\n",
              "DewPointAvgF                  0.003802\n",
              "WindHighMPH                   0.003802\n",
              "DewPointLowF                  0.003042\n",
              "VisibilityHighMiles           0.000000\n",
              "SeaLevelPressureLowInches     0.000000\n",
              "SeaLevelPressureAvgInches     0.000000\n",
              "SeaLevelPressureHighInches    0.000000\n",
              "VisibilityAvgMiles            0.000000\n",
              "TempLowF                     -0.000760\n",
              "TempAvgF                     -0.002281\n",
              "WindAvgMPH                   -0.003802\n",
              "dtype: float64"
            ]
          },
          "execution_count": 79,
          "metadata": {},
          "output_type": "execute_result"
        }
      ],
      "source": [
        "SVM_feature = pd.Series(SVM_feature.importances_mean[sorted_idx], index=features[sorted_idx]).sort_values(ascending=False)\n",
        "SVM_feature"
      ]
    },
    {
      "cell_type": "markdown",
      "metadata": {
        "id": "fCsUHM9YxfQi"
      },
      "source": [
        "# LSTM"
      ]
    },
    {
      "cell_type": "code",
      "execution_count": null,
      "metadata": {
        "id": "bZ5QS7RnE5IS"
      },
      "outputs": [],
      "source": [
        "from keras.utils import to_categorical"
      ]
    },
    {
      "cell_type": "code",
      "execution_count": null,
      "metadata": {
        "id": "d7zrrLpcEyvE"
      },
      "outputs": [],
      "source": [
        "y_onehot = to_categorical(y)"
      ]
    },
    {
      "cell_type": "code",
      "execution_count": null,
      "metadata": {
        "id": "kSATRsBwFGed"
      },
      "outputs": [],
      "source": [
        "y_train_lstm = to_categorical(y_train)"
      ]
    },
    {
      "cell_type": "code",
      "execution_count": null,
      "metadata": {
        "id": "mrRgiqkyFMaj"
      },
      "outputs": [],
      "source": [
        "y_test_lstm = to_categorical(y_test)"
      ]
    },
    {
      "cell_type": "code",
      "execution_count": null,
      "metadata": {
        "id": "WP3sGktvywei"
      },
      "outputs": [],
      "source": [
        "from sklearn.preprocessing import MinMaxScaler\n",
        "from sklearn.model_selection import train_test_split\n",
        "from tensorflow.keras.models import Sequential\n",
        "from tensorflow.keras.layers import LSTM, Dense"
      ]
    },
    {
      "cell_type": "code",
      "execution_count": null,
      "metadata": {
        "id": "itumSwpIDPXb"
      },
      "outputs": [],
      "source": [
        "scalerX = MinMaxScaler()\n",
        "scalerY = MinMaxScaler()"
      ]
    },
    {
      "cell_type": "code",
      "execution_count": null,
      "metadata": {
        "id": "0BQM0t-MDPfp"
      },
      "outputs": [],
      "source": [
        "X_trainLSTM = scalerX.fit_transform(X_train)\n",
        "X_testLSTM = scalerX.transform(X_test)"
      ]
    },
    {
      "cell_type": "code",
      "execution_count": null,
      "metadata": {
        "id": "PlMfAEMBDPkz"
      },
      "outputs": [],
      "source": [
        "import tensorflow as tf"
      ]
    },
    {
      "cell_type": "code",
      "execution_count": null,
      "metadata": {
        "id": "JfwKdpyiDPns"
      },
      "outputs": [],
      "source": [
        "#reshape input data to a 3D tensor\n",
        "X_train_reshaped = X_trainLSTM.reshape((X_trainLSTM.shape[0], 1, X_trainLSTM.shape[1]))\n",
        "X_test_reshaped = X_testLSTM.reshape((X_testLSTM.shape[0], 1, X_testLSTM.shape[1]))"
      ]
    },
    {
      "cell_type": "code",
      "execution_count": null,
      "metadata": {
        "id": "CDrEyXcWDPqR"
      },
      "outputs": [],
      "source": [
        "X_train2 = tf.convert_to_tensor(X_train_reshaped, dtype=tf.float32)\n",
        "X_test2 = tf.convert_to_tensor(X_test_reshaped, dtype=tf.float32)\n"
      ]
    },
    {
      "cell_type": "code",
      "execution_count": null,
      "metadata": {
        "id": "LQLfvcDZDZX6"
      },
      "outputs": [],
      "source": [
        "Y_train2 = tf.convert_to_tensor(y_train_lstm)"
      ]
    },
    {
      "cell_type": "code",
      "execution_count": null,
      "metadata": {
        "id": "8uS6cITkDZhx"
      },
      "outputs": [],
      "source": [
        "Y_test2 = tf.convert_to_tensor(y_test_lstm)"
      ]
    },
    {
      "cell_type": "code",
      "execution_count": null,
      "metadata": {
        "id": "idg1wV20DPtB"
      },
      "outputs": [],
      "source": [
        "LSTM_model = Sequential()\n",
        "LSTM_model.add(LSTM(30, activation='relu', return_sequences=True, input_shape=(1, X_train2.shape[2])))\n",
        "LSTM_model.add(LSTM(30, activation='relu', return_sequences=True))\n",
        "LSTM_model.add(LSTM(30, activation='relu', return_sequences=True))\n",
        "LSTM_model.add(LSTM(30, activation='relu'))\n",
        "LSTM_model.add(Dense(4, activation='softmax'))"
      ]
    },
    {
      "cell_type": "code",
      "execution_count": null,
      "metadata": {
        "id": "ua-em0ZADPvl"
      },
      "outputs": [],
      "source": [
        "#compile model\n",
        "LSTM_model.compile(optimizer='adam', loss='binary_crossentropy', metrics=['accuracy'])"
      ]
    },
    {
      "cell_type": "code",
      "execution_count": null,
      "metadata": {
        "colab": {
          "base_uri": "https://localhost:8080/"
        },
        "id": "I8zwsM__Dhf6",
        "outputId": "6e3ccb6b-3e39-4b80-f281-47201445c230"
      },
      "outputs": [
        {
          "name": "stdout",
          "output_type": "stream",
          "text": [
            "Epoch 1/100\n",
            "17/17 - 3s - loss: 0.6896 - accuracy: 0.6968 - 3s/epoch - 162ms/step\n",
            "Epoch 2/100\n",
            "17/17 - 0s - loss: 0.6810 - accuracy: 0.7452 - 25ms/epoch - 1ms/step\n",
            "Epoch 3/100\n",
            "17/17 - 0s - loss: 0.6694 - accuracy: 0.7452 - 25ms/epoch - 1ms/step\n",
            "Epoch 4/100\n",
            "17/17 - 0s - loss: 0.6427 - accuracy: 0.7452 - 25ms/epoch - 1ms/step\n",
            "Epoch 5/100\n",
            "17/17 - 0s - loss: 0.4918 - accuracy: 0.7452 - 25ms/epoch - 1ms/step\n",
            "Epoch 6/100\n",
            "17/17 - 0s - loss: 0.3684 - accuracy: 0.7452 - 25ms/epoch - 1ms/step\n",
            "Epoch 7/100\n",
            "17/17 - 0s - loss: 0.3511 - accuracy: 0.7452 - 25ms/epoch - 1ms/step\n",
            "Epoch 8/100\n",
            "17/17 - 0s - loss: 0.3367 - accuracy: 0.7452 - 25ms/epoch - 1ms/step\n",
            "Epoch 9/100\n",
            "17/17 - 0s - loss: 0.3249 - accuracy: 0.7452 - 24ms/epoch - 1ms/step\n",
            "Epoch 10/100\n",
            "17/17 - 0s - loss: 0.3152 - accuracy: 0.7452 - 24ms/epoch - 1ms/step\n",
            "Epoch 11/100\n",
            "17/17 - 0s - loss: 0.3068 - accuracy: 0.7452 - 24ms/epoch - 1ms/step\n",
            "Epoch 12/100\n",
            "17/17 - 0s - loss: 0.2990 - accuracy: 0.7452 - 24ms/epoch - 1ms/step\n",
            "Epoch 13/100\n",
            "17/17 - 0s - loss: 0.2917 - accuracy: 0.7452 - 24ms/epoch - 1ms/step\n",
            "Epoch 14/100\n",
            "17/17 - 0s - loss: 0.2860 - accuracy: 0.7452 - 25ms/epoch - 1ms/step\n",
            "Epoch 15/100\n",
            "17/17 - 0s - loss: 0.2808 - accuracy: 0.7452 - 25ms/epoch - 1ms/step\n",
            "Epoch 16/100\n",
            "17/17 - 0s - loss: 0.2765 - accuracy: 0.7452 - 24ms/epoch - 1ms/step\n",
            "Epoch 17/100\n",
            "17/17 - 0s - loss: 0.2724 - accuracy: 0.7452 - 24ms/epoch - 1ms/step\n",
            "Epoch 18/100\n",
            "17/17 - 0s - loss: 0.2689 - accuracy: 0.7452 - 24ms/epoch - 1ms/step\n",
            "Epoch 19/100\n",
            "17/17 - 0s - loss: 0.2653 - accuracy: 0.7452 - 26ms/epoch - 2ms/step\n",
            "Epoch 20/100\n",
            "17/17 - 0s - loss: 0.2622 - accuracy: 0.7452 - 25ms/epoch - 1ms/step\n",
            "Epoch 21/100\n",
            "17/17 - 0s - loss: 0.2600 - accuracy: 0.7452 - 25ms/epoch - 1ms/step\n",
            "Epoch 22/100\n",
            "17/17 - 0s - loss: 0.2588 - accuracy: 0.7452 - 25ms/epoch - 1ms/step\n",
            "Epoch 23/100\n",
            "17/17 - 0s - loss: 0.2549 - accuracy: 0.7452 - 25ms/epoch - 1ms/step\n",
            "Epoch 24/100\n",
            "17/17 - 0s - loss: 0.2532 - accuracy: 0.7452 - 24ms/epoch - 1ms/step\n",
            "Epoch 25/100\n",
            "17/17 - 0s - loss: 0.2490 - accuracy: 0.7452 - 25ms/epoch - 1ms/step\n",
            "Epoch 26/100\n",
            "17/17 - 0s - loss: 0.2470 - accuracy: 0.7452 - 26ms/epoch - 2ms/step\n",
            "Epoch 27/100\n",
            "17/17 - 0s - loss: 0.2443 - accuracy: 0.7452 - 26ms/epoch - 2ms/step\n",
            "Epoch 28/100\n",
            "17/17 - 0s - loss: 0.2422 - accuracy: 0.7414 - 26ms/epoch - 2ms/step\n",
            "Epoch 29/100\n",
            "17/17 - 0s - loss: 0.2418 - accuracy: 0.7576 - 25ms/epoch - 1ms/step\n",
            "Epoch 30/100\n",
            "17/17 - 0s - loss: 0.2394 - accuracy: 0.7785 - 26ms/epoch - 2ms/step\n",
            "Epoch 31/100\n",
            "17/17 - 0s - loss: 0.2370 - accuracy: 0.7890 - 25ms/epoch - 1ms/step\n",
            "Epoch 32/100\n",
            "17/17 - 0s - loss: 0.2348 - accuracy: 0.8032 - 25ms/epoch - 1ms/step\n",
            "Epoch 33/100\n",
            "17/17 - 0s - loss: 0.2346 - accuracy: 0.8013 - 26ms/epoch - 2ms/step\n",
            "Epoch 34/100\n",
            "17/17 - 0s - loss: 0.2339 - accuracy: 0.8023 - 25ms/epoch - 1ms/step\n",
            "Epoch 35/100\n",
            "17/17 - 0s - loss: 0.2319 - accuracy: 0.8061 - 24ms/epoch - 1ms/step\n",
            "Epoch 36/100\n",
            "17/17 - 0s - loss: 0.2309 - accuracy: 0.8051 - 25ms/epoch - 1ms/step\n",
            "Epoch 37/100\n",
            "17/17 - 0s - loss: 0.2300 - accuracy: 0.8023 - 25ms/epoch - 1ms/step\n",
            "Epoch 38/100\n",
            "17/17 - 0s - loss: 0.2288 - accuracy: 0.8089 - 24ms/epoch - 1ms/step\n",
            "Epoch 39/100\n",
            "17/17 - 0s - loss: 0.2290 - accuracy: 0.8108 - 30ms/epoch - 2ms/step\n",
            "Epoch 40/100\n",
            "17/17 - 0s - loss: 0.2274 - accuracy: 0.8089 - 24ms/epoch - 1ms/step\n",
            "Epoch 41/100\n",
            "17/17 - 0s - loss: 0.2274 - accuracy: 0.8080 - 26ms/epoch - 2ms/step\n",
            "Epoch 42/100\n",
            "17/17 - 0s - loss: 0.2261 - accuracy: 0.8127 - 25ms/epoch - 1ms/step\n",
            "Epoch 43/100\n",
            "17/17 - 0s - loss: 0.2256 - accuracy: 0.8108 - 25ms/epoch - 1ms/step\n",
            "Epoch 44/100\n",
            "17/17 - 0s - loss: 0.2244 - accuracy: 0.8099 - 25ms/epoch - 1ms/step\n",
            "Epoch 45/100\n",
            "17/17 - 0s - loss: 0.2249 - accuracy: 0.8127 - 25ms/epoch - 1ms/step\n",
            "Epoch 46/100\n",
            "17/17 - 0s - loss: 0.2238 - accuracy: 0.8156 - 27ms/epoch - 2ms/step\n",
            "Epoch 47/100\n",
            "17/17 - 0s - loss: 0.2229 - accuracy: 0.8137 - 25ms/epoch - 1ms/step\n",
            "Epoch 48/100\n",
            "17/17 - 0s - loss: 0.2227 - accuracy: 0.8184 - 25ms/epoch - 1ms/step\n",
            "Epoch 49/100\n",
            "17/17 - 0s - loss: 0.2221 - accuracy: 0.8146 - 25ms/epoch - 1ms/step\n",
            "Epoch 50/100\n",
            "17/17 - 0s - loss: 0.2227 - accuracy: 0.8146 - 25ms/epoch - 1ms/step\n",
            "Epoch 51/100\n",
            "17/17 - 0s - loss: 0.2216 - accuracy: 0.8118 - 24ms/epoch - 1ms/step\n",
            "Epoch 52/100\n",
            "17/17 - 0s - loss: 0.2223 - accuracy: 0.8165 - 25ms/epoch - 1ms/step\n",
            "Epoch 53/100\n",
            "17/17 - 0s - loss: 0.2206 - accuracy: 0.8127 - 25ms/epoch - 1ms/step\n",
            "Epoch 54/100\n",
            "17/17 - 0s - loss: 0.2216 - accuracy: 0.8118 - 26ms/epoch - 2ms/step\n",
            "Epoch 55/100\n",
            "17/17 - 0s - loss: 0.2201 - accuracy: 0.8146 - 23ms/epoch - 1ms/step\n",
            "Epoch 56/100\n",
            "17/17 - 0s - loss: 0.2198 - accuracy: 0.8175 - 24ms/epoch - 1ms/step\n",
            "Epoch 57/100\n",
            "17/17 - 0s - loss: 0.2196 - accuracy: 0.8175 - 25ms/epoch - 1ms/step\n",
            "Epoch 58/100\n",
            "17/17 - 0s - loss: 0.2195 - accuracy: 0.8165 - 23ms/epoch - 1ms/step\n",
            "Epoch 59/100\n",
            "17/17 - 0s - loss: 0.2200 - accuracy: 0.8156 - 23ms/epoch - 1ms/step\n",
            "Epoch 60/100\n",
            "17/17 - 0s - loss: 0.2193 - accuracy: 0.8165 - 24ms/epoch - 1ms/step\n",
            "Epoch 61/100\n",
            "17/17 - 0s - loss: 0.2187 - accuracy: 0.8175 - 24ms/epoch - 1ms/step\n",
            "Epoch 62/100\n",
            "17/17 - 0s - loss: 0.2191 - accuracy: 0.8156 - 25ms/epoch - 1ms/step\n",
            "Epoch 63/100\n",
            "17/17 - 0s - loss: 0.2190 - accuracy: 0.8165 - 25ms/epoch - 1ms/step\n",
            "Epoch 64/100\n",
            "17/17 - 0s - loss: 0.2188 - accuracy: 0.8203 - 24ms/epoch - 1ms/step\n",
            "Epoch 65/100\n",
            "17/17 - 0s - loss: 0.2187 - accuracy: 0.8175 - 24ms/epoch - 1ms/step\n",
            "Epoch 66/100\n",
            "17/17 - 0s - loss: 0.2189 - accuracy: 0.8146 - 24ms/epoch - 1ms/step\n",
            "Epoch 67/100\n",
            "17/17 - 0s - loss: 0.2172 - accuracy: 0.8194 - 24ms/epoch - 1ms/step\n",
            "Epoch 68/100\n",
            "17/17 - 0s - loss: 0.2177 - accuracy: 0.8203 - 24ms/epoch - 1ms/step\n",
            "Epoch 69/100\n",
            "17/17 - 0s - loss: 0.2187 - accuracy: 0.8165 - 24ms/epoch - 1ms/step\n",
            "Epoch 70/100\n",
            "17/17 - 0s - loss: 0.2171 - accuracy: 0.8184 - 24ms/epoch - 1ms/step\n",
            "Epoch 71/100\n",
            "17/17 - 0s - loss: 0.2171 - accuracy: 0.8194 - 24ms/epoch - 1ms/step\n",
            "Epoch 72/100\n",
            "17/17 - 0s - loss: 0.2166 - accuracy: 0.8184 - 24ms/epoch - 1ms/step\n",
            "Epoch 73/100\n",
            "17/17 - 0s - loss: 0.2164 - accuracy: 0.8184 - 24ms/epoch - 1ms/step\n",
            "Epoch 74/100\n",
            "17/17 - 0s - loss: 0.2161 - accuracy: 0.8184 - 23ms/epoch - 1ms/step\n",
            "Epoch 75/100\n",
            "17/17 - 0s - loss: 0.2159 - accuracy: 0.8203 - 25ms/epoch - 1ms/step\n",
            "Epoch 76/100\n",
            "17/17 - 0s - loss: 0.2159 - accuracy: 0.8194 - 23ms/epoch - 1ms/step\n",
            "Epoch 77/100\n",
            "17/17 - 0s - loss: 0.2156 - accuracy: 0.8175 - 24ms/epoch - 1ms/step\n",
            "Epoch 78/100\n",
            "17/17 - 0s - loss: 0.2158 - accuracy: 0.8184 - 24ms/epoch - 1ms/step\n",
            "Epoch 79/100\n",
            "17/17 - 0s - loss: 0.2162 - accuracy: 0.8194 - 24ms/epoch - 1ms/step\n",
            "Epoch 80/100\n",
            "17/17 - 0s - loss: 0.2153 - accuracy: 0.8222 - 23ms/epoch - 1ms/step\n",
            "Epoch 81/100\n",
            "17/17 - 0s - loss: 0.2151 - accuracy: 0.8194 - 23ms/epoch - 1ms/step\n",
            "Epoch 82/100\n",
            "17/17 - 0s - loss: 0.2151 - accuracy: 0.8213 - 24ms/epoch - 1ms/step\n",
            "Epoch 83/100\n",
            "17/17 - 0s - loss: 0.2176 - accuracy: 0.8175 - 25ms/epoch - 1ms/step\n",
            "Epoch 84/100\n",
            "17/17 - 0s - loss: 0.2150 - accuracy: 0.8194 - 26ms/epoch - 2ms/step\n",
            "Epoch 85/100\n",
            "17/17 - 0s - loss: 0.2143 - accuracy: 0.8213 - 26ms/epoch - 2ms/step\n",
            "Epoch 86/100\n",
            "17/17 - 0s - loss: 0.2144 - accuracy: 0.8222 - 24ms/epoch - 1ms/step\n",
            "Epoch 87/100\n",
            "17/17 - 0s - loss: 0.2143 - accuracy: 0.8241 - 25ms/epoch - 1ms/step\n",
            "Epoch 88/100\n",
            "17/17 - 0s - loss: 0.2148 - accuracy: 0.8213 - 25ms/epoch - 1ms/step\n",
            "Epoch 89/100\n",
            "17/17 - 0s - loss: 0.2145 - accuracy: 0.8203 - 26ms/epoch - 2ms/step\n",
            "Epoch 90/100\n",
            "17/17 - 0s - loss: 0.2137 - accuracy: 0.8251 - 24ms/epoch - 1ms/step\n",
            "Epoch 91/100\n",
            "17/17 - 0s - loss: 0.2136 - accuracy: 0.8251 - 25ms/epoch - 1ms/step\n",
            "Epoch 92/100\n",
            "17/17 - 0s - loss: 0.2140 - accuracy: 0.8232 - 25ms/epoch - 1ms/step\n",
            "Epoch 93/100\n",
            "17/17 - 0s - loss: 0.2134 - accuracy: 0.8260 - 25ms/epoch - 1ms/step\n",
            "Epoch 94/100\n",
            "17/17 - 0s - loss: 0.2139 - accuracy: 0.8251 - 25ms/epoch - 1ms/step\n",
            "Epoch 95/100\n",
            "17/17 - 0s - loss: 0.2134 - accuracy: 0.8251 - 24ms/epoch - 1ms/step\n",
            "Epoch 96/100\n",
            "17/17 - 0s - loss: 0.2135 - accuracy: 0.8251 - 24ms/epoch - 1ms/step\n",
            "Epoch 97/100\n",
            "17/17 - 0s - loss: 0.2131 - accuracy: 0.8251 - 23ms/epoch - 1ms/step\n",
            "Epoch 98/100\n",
            "17/17 - 0s - loss: 0.2128 - accuracy: 0.8251 - 23ms/epoch - 1ms/step\n",
            "Epoch 99/100\n",
            "17/17 - 0s - loss: 0.2130 - accuracy: 0.8232 - 23ms/epoch - 1ms/step\n",
            "Epoch 100/100\n",
            "17/17 - 0s - loss: 0.2136 - accuracy: 0.8213 - 24ms/epoch - 1ms/step\n"
          ]
        },
        {
          "data": {
            "text/plain": [
              "<keras.callbacks.History at 0x21bcedd0760>"
            ]
          },
          "execution_count": 94,
          "metadata": {},
          "output_type": "execute_result"
        }
      ],
      "source": [
        "LSTM_model.fit(X_train2, Y_train2, epochs=100, batch_size=64, verbose=2)"
      ]
    },
    {
      "cell_type": "code",
      "execution_count": null,
      "metadata": {
        "colab": {
          "base_uri": "https://localhost:8080/"
        },
        "id": "H263bGroDhij",
        "outputId": "8e7acc3d-70ca-41f7-d166-7076e8654ebc"
      },
      "outputs": [
        {
          "name": "stdout",
          "output_type": "stream",
          "text": [
            "Test accuracy: 0.816\n"
          ]
        }
      ],
      "source": [
        "loss, accuracy = LSTM_model.evaluate(X_train2, Y_train2, verbose=0)\n",
        "print(f'Test accuracy: {accuracy:.3f}')"
      ]
    },
    {
      "cell_type": "code",
      "execution_count": null,
      "metadata": {
        "colab": {
          "base_uri": "https://localhost:8080/"
        },
        "id": "-AWRe6IyDpeE",
        "outputId": "f8b74fe8-803d-4ad8-827a-1965715bca23"
      },
      "outputs": [
        {
          "name": "stdout",
          "output_type": "stream",
          "text": [
            "9/9 [==============================] - 0s 695us/step\n"
          ]
        }
      ],
      "source": [
        "y_pred = LSTM_model.predict(X_test2)"
      ]
    },
    {
      "cell_type": "code",
      "execution_count": null,
      "metadata": {
        "id": "4eQJub8QDpgp"
      },
      "outputs": [],
      "source": [
        "y_pred1 = np.around(y_pred)"
      ]
    },
    {
      "cell_type": "code",
      "execution_count": null,
      "metadata": {
        "id": "W7NtxdjZDpjO"
      },
      "outputs": [],
      "source": [
        "y_test = np.argmax(y_test_lstm, axis=1)"
      ]
    },
    {
      "cell_type": "code",
      "execution_count": null,
      "metadata": {
        "id": "wc2LBFhLDpll"
      },
      "outputs": [],
      "source": [
        "y_pred_ori = np.argmax(y_pred1, axis=1)"
      ]
    },
    {
      "cell_type": "code",
      "execution_count": null,
      "metadata": {
        "colab": {
          "base_uri": "https://localhost:8080/"
        },
        "id": "2l9Ztc51Dpnp",
        "outputId": "15c7de08-953c-42d3-89a2-c8973526a5be"
      },
      "outputs": [
        {
          "name": "stdout",
          "output_type": "stream",
          "text": [
            "accuracy_score is  0.8403041825095057\n",
            "precision is  0.778771820146408\n",
            "f1 score is  0.8028512551175789\n",
            "recall is  0.8403041825095057\n"
          ]
        },
        {
          "name": "stderr",
          "output_type": "stream",
          "text": [
            "Precision is ill-defined and being set to 0.0 in labels with no predicted samples. Use `zero_division` parameter to control this behavior.\n"
          ]
        }
      ],
      "source": [
        "from sklearn import metrics\n",
        "\n",
        "\n",
        "print(\"accuracy_score is \",metrics.accuracy_score(y_test, y_pred_ori))\n",
        "print(\"precision is \",metrics.precision_score(y_test, y_pred_ori, average='weighted'))\n",
        "print(\"f1 score is \",metrics.f1_score(y_test, y_pred_ori, average='weighted'))\n",
        "print(\"recall is \",metrics.recall_score(y_test, y_pred_ori, average='weighted'))"
      ]
    },
    {
      "cell_type": "code",
      "execution_count": null,
      "metadata": {
        "id": "FSigAs-iRNJu"
      },
      "outputs": [],
      "source": [
        "acc_LSTM = metrics.accuracy_score(y_test, y_pred_ori)"
      ]
    },
    {
      "cell_type": "code",
      "execution_count": null,
      "metadata": {
        "colab": {
          "base_uri": "https://localhost:8080/"
        },
        "id": "yE1caTjbjxwR",
        "outputId": "05a8aaa3-b24f-42ed-b9bf-afb0ea6c9b8d"
      },
      "outputs": [
        {
          "data": {
            "text/plain": [
              "VisibilityLowMiles            19.852123\n",
              "TempHighF                     10.281764\n",
              "VisibilityHighMiles            9.129763\n",
              "VisibilityAvgMiles             8.716173\n",
              "WindAvgMPH                     5.289891\n",
              "TempAvgF                       5.222138\n",
              "HumidityHighPercent            3.097316\n",
              "SeaLevelPressureAvgInches      2.763585\n",
              "DewPointHighF                  2.689392\n",
              "SeaLevelPressureLowInches      1.489693\n",
              "DewPointAvgF                   1.479079\n",
              "HumidityAvgPercent             0.927934\n",
              "DewPointLowF                   0.120391\n",
              "SeaLevelPressureHighInches    -0.409543\n",
              "TempLowF                      -1.328266\n",
              "WindGustMPH                   -3.113784\n",
              "HumidityLowPercent            -6.541980\n",
              "WindHighMPH                   -8.963536\n",
              "dtype: float32"
            ]
          },
          "execution_count": 102,
          "metadata": {},
          "output_type": "execute_result"
        }
      ],
      "source": [
        "lstm_feature = pd.Series(LSTM_model.layers[0].get_weights()[0].sum(axis=1), index=X_train.columns).sort_values(ascending=False)\n",
        "lstm_feature"
      ]
    },
    {
      "cell_type": "markdown",
      "metadata": {
        "id": "c51sYMOUpNdd"
      },
      "source": [
        "#Highest Accuracy"
      ]
    },
    {
      "cell_type": "code",
      "execution_count": null,
      "metadata": {
        "id": "fR8jIA4Eutb2"
      },
      "outputs": [],
      "source": [
        "models = {\n",
        "    'SVM': SVM_model,\n",
        "    'RF': RF_model,\n",
        "    'XGBoost': XGB_model,\n",
        "    'LSTM': LSTM_model\n",
        "}"
      ]
    },
    {
      "cell_type": "code",
      "execution_count": null,
      "metadata": {
        "colab": {
          "base_uri": "https://localhost:8080/"
        },
        "id": "gkDXMmc-pPOO",
        "outputId": "cd4ba1a0-77b4-4e2d-f697-95a2b3a5ba44"
      },
      "outputs": [
        {
          "data": {
            "text/plain": [
              "(0.8517110266159695, 'XGBoost')"
            ]
          },
          "execution_count": 104,
          "metadata": {},
          "output_type": "execute_result"
        }
      ],
      "source": [
        "highest_acc_var = max([(acc_SVM, 'SVM'), (acc_RF, 'RF'), (acc_XGBoost, 'XGBoost'), (acc_LSTM, 'LSTM')])\n",
        "highest_acc_var"
      ]
    },
    {
      "cell_type": "markdown",
      "metadata": {
        "id": "em9_9WfayTgy"
      },
      "source": [
        "# Feature selection"
      ]
    },
    {
      "cell_type": "code",
      "execution_count": null,
      "metadata": {
        "colab": {
          "base_uri": "https://localhost:8080/",
          "height": 472
        },
        "id": "aQ12fNIC0rzd",
        "outputId": "73802493-5dec-4881-a9c7-5e0d05b12863"
      },
      "outputs": [
        {
          "data": {
            "image/png": "[encoded data removed]",
            "text/plain": [
              "<Figure size 640x480 with 1 Axes>"
            ]
          },
          "metadata": {},
          "output_type": "display_data"
        }
      ],
      "source": [
        "# Creating a seaborn bar plot\n",
        "\n",
        "sns.barplot(x=RF_feature, y=RF_feature.index)\n",
        "\n",
        "\n",
        "\n",
        "# Add labels to the graph\n",
        "\n",
        "plt.xlabel('Feature Importance Score')\n",
        "\n",
        "plt.ylabel('Features')\n",
        "\n",
        "\n",
        "\n",
        "# Add title to the graph\n",
        "\n",
        "plt.title(\"Visualizing Important Features - RF\")\n",
        "\n",
        "\n",
        "\n",
        "# Visualize the graph\n",
        "\n",
        "plt.show()"
      ]
    },
    {
      "cell_type": "code",
      "execution_count": null,
      "metadata": {
        "colab": {
          "base_uri": "https://localhost:8080/",
          "height": 472
        },
        "id": "r7GSY483s9ju",
        "outputId": "9e887abb-979b-4dc8-f5dc-dfcfa9bec4d7"
      },
      "outputs": [
        {
          "data": {
            "image/png": "[encoded data removed]",
            "text/plain": [
              "<Figure size 640x480 with 1 Axes>"
            ]
          },
          "metadata": {},
          "output_type": "display_data"
        }
      ],
      "source": [
        "# Creating a seaborn bar plot\n",
        "\n",
        "sns.barplot(x=XGB_feature, y=XGB_feature.index)\n",
        "\n",
        "\n",
        "\n",
        "# Add labels to the graph\n",
        "\n",
        "plt.xlabel('Feature Importance Score')\n",
        "\n",
        "plt.ylabel('Features')\n",
        "\n",
        "\n",
        "\n",
        "# Add title to the graph\n",
        "\n",
        "plt.title(\"Visualizing Important Features - XGB\")\n",
        "\n",
        "\n",
        "\n",
        "# Visualize the graph\n",
        "\n",
        "plt.show()"
      ]
    },
    {
      "cell_type": "code",
      "execution_count": null,
      "metadata": {
        "colab": {
          "base_uri": "https://localhost:8080/",
          "height": 472
        },
        "id": "iudNEwFuu2mF",
        "outputId": "c711e648-00b4-4ec5-8947-9ef88b839aa1"
      },
      "outputs": [
        {
          "data": {
            "image/png": "[encoded data removed]",
            "text/plain": [
              "<Figure size 640x480 with 1 Axes>"
            ]
          },
          "metadata": {},
          "output_type": "display_data"
        }
      ],
      "source": [
        "# Creating a seaborn bar plot\n",
        "\n",
        "sns.barplot(x=SVM_feature, y=SVM_feature.index)\n",
        "\n",
        "\n",
        "\n",
        "# Add labels to the graph\n",
        "\n",
        "plt.xlabel('Feature Importance Score')\n",
        "\n",
        "plt.ylabel('Features')\n",
        "\n",
        "\n",
        "\n",
        "# Add title to the graph\n",
        "\n",
        "plt.title(\"Visualizing Important Features - SVM\")\n",
        "\n",
        "\n",
        "\n",
        "# Visualize the graph\n",
        "\n",
        "plt.show()"
      ]
    },
    {
      "cell_type": "code",
      "execution_count": null,
      "metadata": {
        "colab": {
          "base_uri": "https://localhost:8080/",
          "height": 472
        },
        "id": "yfiRu01Zu_Kx",
        "outputId": "0a345608-0dd2-44c9-c3bd-6d0e6aa40019"
      },
      "outputs": [
        {
          "data": {
            "image/png": "[encoded data removed]",
            "text/plain": [
              "<Figure size 640x480 with 1 Axes>"
            ]
          },
          "metadata": {},
          "output_type": "display_data"
        }
      ],
      "source": [
        "# Creating a seaborn bar plot\n",
        "\n",
        "sns.barplot(x=lstm_feature, y=lstm_feature.index)\n",
        "\n",
        "\n",
        "\n",
        "# Add labels to the graph\n",
        "\n",
        "plt.xlabel('Feature Weights')\n",
        "\n",
        "plt.ylabel('Features')\n",
        "\n",
        "\n",
        "\n",
        "# Add title to the graph\n",
        "\n",
        "plt.title(\"Visualizing Important Features - LSTM\")\n",
        "\n",
        "\n",
        "\n",
        "# Visualize the graph\n",
        "\n",
        "plt.show()"
      ]
    },
    {
      "cell_type": "code",
      "execution_count": null,
      "metadata": {
        "colab": {
          "base_uri": "https://localhost:8080/"
        },
        "id": "eAVziSRyd0JV",
        "outputId": "3c346454-de33-42f6-9e2c-c44c3bdc03f2"
      },
      "outputs": [
        {
          "name": "stdout",
          "output_type": "stream",
          "text": [
            "Features and weight for each model:\n",
            "                                 lstm       svm       xgb        rf\n",
            "VisibilityLowMiles          19.852123  0.005323  0.315460  0.177858\n",
            "TempHighF                   10.281764  0.003802  0.042144  0.046399\n",
            "VisibilityHighMiles          9.129763  0.000000  0.000000  0.001696\n",
            "VisibilityAvgMiles           8.716173  0.000000  0.037280  0.112455\n",
            "WindAvgMPH                   5.289891 -0.003802  0.042296  0.032173\n",
            "TempAvgF                     5.222138 -0.002281  0.059682  0.040401\n",
            "HumidityHighPercent          3.097316  0.009125  0.045591  0.048185\n",
            "SeaLevelPressureAvgInches    2.763585  0.000000  0.031623  0.037846\n",
            "DewPointHighF                2.689392  0.009125  0.052371  0.049518\n",
            "SeaLevelPressureLowInches    1.489693  0.000000  0.031063  0.038110\n",
            "DewPointAvgF                 1.479079  0.003802  0.036506  0.036841\n",
            "HumidityAvgPercent           0.927934  0.013688  0.048378  0.093323\n",
            "DewPointLowF                 0.120391  0.003042  0.056661  0.045412\n",
            "SeaLevelPressureHighInches  -0.409543  0.000000  0.036120  0.037177\n",
            "TempLowF                    -1.328266 -0.000760  0.035781  0.037242\n",
            "WindGustMPH                 -3.113784  0.005323  0.039415  0.049690\n",
            "HumidityLowPercent          -6.541980  0.023574  0.049692  0.077927\n",
            "WindHighMPH                 -8.963536  0.003802  0.039937  0.037749\n",
            "\n"
          ]
        }
      ],
      "source": [
        "features_df = pd.concat([lstm_feature, SVM_feature, XGB_feature, RF_feature], axis=1)\n",
        "\n",
        "# Rename the columns to match the model names\n",
        "features_df.columns = ['lstm', 'svm', 'xgb', 'rf']\n",
        "\n",
        "top_features_dict = {}\n",
        "\n",
        "for model_name in features_df.columns:\n",
        "    model_features = features_df[model_name].sort_values(ascending=False)\n",
        "    top_features = model_features\n",
        "    top_features_dict[model_name] = top_features\n",
        "\n",
        "top_features_df = pd.concat(top_features_dict.values(), axis=1, keys=top_features_dict.keys())\n",
        "\n",
        "\n",
        "print(\"Features and weight for each model:\")\n",
        "print(top_features_df)\n",
        "print()"
      ]
    },
    {
      "cell_type": "code",
      "execution_count": null,
      "metadata": {
        "colab": {
          "base_uri": "https://localhost:8080/"
        },
        "id": "qaOmOL6v1LFx",
        "outputId": "ebfeae1d-90d8-4455-f30f-6b8036c41db2"
      },
      "outputs": [
        {
          "name": "stdout",
          "output_type": "stream",
          "text": [
            "Top 10 features for each model:\n",
            "                                lstm       svm       xgb        rf\n",
            "VisibilityLowMiles         19.852123  0.005323  0.315460  0.177858\n",
            "TempHighF                  10.281764  0.003802  0.042144  0.046399\n",
            "VisibilityHighMiles         9.129763       NaN       NaN       NaN\n",
            "VisibilityAvgMiles          8.716173       NaN       NaN  0.112455\n",
            "WindAvgMPH                  5.289891       NaN  0.042296       NaN\n",
            "TempAvgF                    5.222138       NaN  0.059682  0.040401\n",
            "HumidityHighPercent         3.097316  0.009125  0.045591  0.048185\n",
            "SeaLevelPressureAvgInches   2.763585       NaN       NaN       NaN\n",
            "DewPointHighF               2.689392  0.009125  0.052371  0.049518\n",
            "SeaLevelPressureLowInches   1.489693       NaN       NaN       NaN\n",
            "HumidityLowPercent               NaN  0.023574  0.049692  0.077927\n",
            "HumidityAvgPercent               NaN  0.013688  0.048378  0.093323\n",
            "WindGustMPH                      NaN  0.005323       NaN  0.049690\n",
            "DewPointAvgF                     NaN  0.003802       NaN       NaN\n",
            "WindHighMPH                      NaN  0.003802  0.039937       NaN\n",
            "DewPointLowF                     NaN  0.003042  0.056661  0.045412\n",
            "\n"
          ]
        }
      ],
      "source": [
        "features_df = pd.concat([lstm_feature, SVM_feature, XGB_feature, RF_feature], axis=1)\n",
        "\n",
        "# Rename the columns to match the model names\n",
        "features_df.columns = ['lstm', 'svm', 'xgb', 'rf']\n",
        "\n",
        "# Create a dictionary to store the top 10 features for each model\n",
        "top_features_dict = {}\n",
        "\n",
        "for model_name in features_df.columns:\n",
        "    # Sort the important features for the current model by their value in descending order\n",
        "    model_features = features_df[model_name].sort_values(ascending=False)\n",
        "    # Take the top 10 features\n",
        "    top_features = model_features.head(10)\n",
        "    # Add the top 10 features to the dictionary\n",
        "    top_features_dict[model_name] = top_features\n",
        "\n",
        "# Concatenate the top 10 features into a single DataFrame\n",
        "top_features_df = pd.concat(top_features_dict.values(), axis=1, keys=top_features_dict.keys())\n",
        "\n",
        "\n",
        "# Print the top 10 features for each model\n",
        "print(\"Top 10 features for each model:\")\n",
        "print(top_features_df)\n",
        "print()\n"
      ]
    },
    {
      "cell_type": "code",
      "execution_count": null,
      "metadata": {
        "colab": {
          "base_uri": "https://localhost:8080/"
        },
        "id": "OJt7XpPb3bOQ",
        "outputId": "8161a0e2-6798-4463-9429-f0492aad65c3"
      },
      "outputs": [
        {
          "name": "stdout",
          "output_type": "stream",
          "text": [
            "Top 10 features for lstm:\n",
            "['VisibilityLowMiles', 'TempHighF', 'VisibilityHighMiles', 'VisibilityAvgMiles', 'WindAvgMPH', 'TempAvgF', 'HumidityHighPercent', 'SeaLevelPressureAvgInches', 'DewPointHighF', 'SeaLevelPressureLowInches']\n",
            "\n",
            "Top 10 features for svm:\n",
            "['HumidityLowPercent', 'HumidityAvgPercent', 'DewPointHighF', 'HumidityHighPercent', 'VisibilityLowMiles', 'WindGustMPH', 'TempHighF', 'DewPointAvgF', 'WindHighMPH', 'DewPointLowF']\n",
            "\n",
            "Top 10 features for xgb:\n",
            "['VisibilityLowMiles', 'TempAvgF', 'DewPointLowF', 'DewPointHighF', 'HumidityLowPercent', 'HumidityAvgPercent', 'HumidityHighPercent', 'WindAvgMPH', 'TempHighF', 'WindHighMPH']\n",
            "\n",
            "Top 10 features for rf:\n",
            "['VisibilityLowMiles', 'VisibilityAvgMiles', 'HumidityAvgPercent', 'HumidityLowPercent', 'WindGustMPH', 'DewPointHighF', 'HumidityHighPercent', 'TempHighF', 'DewPointLowF', 'TempAvgF']\n",
            "\n"
          ]
        }
      ],
      "source": [
        "for model_name in features_df.columns:\n",
        "    # Sort the important features for the current model by their value in descending order\n",
        "    model_features = features_df[model_name].sort_values(ascending=False)\n",
        "    # Take the top 10 features\n",
        "    top_features = model_features.head(10)\n",
        "    # Print the top 10 feature names for the current model\n",
        "    print(f\"Top 10 features for {model_name}:\")\n",
        "    print(top_features.index.tolist())\n",
        "    print()\n"
      ]
    },
    {
      "cell_type": "code",
      "execution_count": null,
      "metadata": {
        "colab": {
          "base_uri": "https://localhost:8080/"
        },
        "id": "X18n0Y-g3waA",
        "outputId": "236e5de7-ca02-44f9-c7da-5f52513642e4"
      },
      "outputs": [
        {
          "name": "stdout",
          "output_type": "stream",
          "text": [
            "Repeated features:\n",
            "['VisibilityLowMiles', 'DewPointHighF', 'HumidityHighPercent', 'TempHighF']\n"
          ]
        }
      ],
      "source": [
        "features_df = pd.concat([lstm_feature, SVM_feature, XGB_feature, RF_feature], axis=1)\n",
        "\n",
        "# Rename the columns to match the model names\n",
        "features_df.columns = ['lstm', 'svm', 'xgb', 'rf']\n",
        "\n",
        "# Create a dictionary to store the top 10 features for each model\n",
        "top_features_dict = {}\n",
        "\n",
        "# Create a list to hold the top 10 features for each model\n",
        "top_features_list = []\n",
        "\n",
        "for model_name in features_df.columns:\n",
        "    # Sort the important features for the current model by their value in descending order\n",
        "    model_features = features_df[model_name].sort_values(ascending=False)\n",
        "    # Take the top 10 features\n",
        "    top_features = model_features.head(10)\n",
        "    # Append the top 10 feature names to the list\n",
        "    top_features_list.append(set(top_features.index.tolist()))\n",
        "\n",
        "# Find the intersection of all the sets in top_features_list\n",
        "repeated_features = set.intersection(*top_features_list)\n",
        "\n",
        "# Print the repeated features\n",
        "print(\"Repeated features:\")\n",
        "print(list(repeated_features))\n",
        "\n"
      ]
    },
    {
      "cell_type": "markdown",
      "metadata": {
        "id": "j3AOPQM3eT_M"
      },
      "source": [
        "# Using feature selected create a new dataset for training of model"
      ]
    },
    {
      "cell_type": "code",
      "execution_count": null,
      "metadata": {
        "colab": {
          "base_uri": "https://localhost:8080/"
        },
        "id": "rGYu_4fSyXXz",
        "outputId": "67e7d042-0fbb-4ad1-e65a-b3f1a5b6f636"
      },
      "outputs": [
        {
          "data": {
            "text/plain": [
              "Index(['TempHighF', 'TempAvgF', 'TempLowF', 'DewPointHighF', 'DewPointAvgF',\n",
              "       'DewPointLowF', 'HumidityHighPercent', 'HumidityAvgPercent',\n",
              "       'HumidityLowPercent', 'SeaLevelPressureHighInches',\n",
              "       'SeaLevelPressureAvgInches', 'SeaLevelPressureLowInches',\n",
              "       'VisibilityHighMiles', 'VisibilityAvgMiles', 'VisibilityLowMiles',\n",
              "       'WindHighMPH', 'WindAvgMPH', 'WindGustMPH', 'PrecipitationSumInches',\n",
              "       'PrecipitationTrace', 'PrecipitateRange'],\n",
              "      dtype='object')"
            ]
          },
          "execution_count": 113,
          "metadata": {},
          "output_type": "execute_result"
        }
      ],
      "source": [
        "weather.columns"
      ]
    },
    {
      "cell_type": "code",
      "execution_count": null,
      "metadata": {
        "colab": {
          "base_uri": "https://localhost:8080/"
        },
        "id": "HQ7rVCRAyXqB",
        "outputId": "759273b1-ff04-4e82-998d-be5102e29350"
      },
      "outputs": [
        {
          "data": {
            "text/plain": [
              "['VisibilityLowMiles',\n",
              " 'DewPointHighF',\n",
              " 'HumidityHighPercent',\n",
              " 'TempHighF',\n",
              " 'PrecipitateRange']"
            ]
          },
          "execution_count": 114,
          "metadata": {},
          "output_type": "execute_result"
        }
      ],
      "source": [
        "imprt_feature = list(repeated_features)\n",
        "imprt_feature.append('PrecipitateRange')\n",
        "imprt_feature"
      ]
    },
    {
      "cell_type": "code",
      "execution_count": null,
      "metadata": {
        "colab": {
          "base_uri": "https://localhost:8080/",
          "height": 423
        },
        "id": "IUFWt7bpfEV6",
        "outputId": "abeb606f-fe3a-4b64-cae4-7939b7a91a36"
      },
      "outputs": [
        {
          "data": {
            "text/html": [
              "<div>\n",
              "<style scoped>\n",
              "    .dataframe tbody tr th:only-of-type {\n",
              "        vertical-align: middle;\n",
              "    }\n",
              "\n",
              "    .dataframe tbody tr th {\n",
              "        vertical-align: top;\n",
              "    }\n",
              "\n",
              "    .dataframe thead th {\n",
              "        text-align: right;\n",
              "    }\n",
              "</style>\n",
              "<table border=\"1\" class=\"dataframe\">\n",
              "  <thead>\n",
              "    <tr style=\"text-align: right;\">\n",
              "      <th></th>\n",
              "      <th>VisibilityLowMiles</th>\n",
              "      <th>DewPointHighF</th>\n",
              "      <th>HumidityHighPercent</th>\n",
              "      <th>TempHighF</th>\n",
              "      <th>PrecipitateRange</th>\n",
              "    </tr>\n",
              "  </thead>\n",
              "  <tbody>\n",
              "    <tr>\n",
              "      <th>0</th>\n",
              "      <td>2</td>\n",
              "      <td>67</td>\n",
              "      <td>93</td>\n",
              "      <td>74</td>\n",
              "      <td>3</td>\n",
              "    </tr>\n",
              "    <tr>\n",
              "      <th>1</th>\n",
              "      <td>5</td>\n",
              "      <td>43</td>\n",
              "      <td>93</td>\n",
              "      <td>56</td>\n",
              "      <td>0</td>\n",
              "    </tr>\n",
              "    <tr>\n",
              "      <th>2</th>\n",
              "      <td>10</td>\n",
              "      <td>31</td>\n",
              "      <td>76</td>\n",
              "      <td>58</td>\n",
              "      <td>0</td>\n",
              "    </tr>\n",
              "    <tr>\n",
              "      <th>3</th>\n",
              "      <td>7</td>\n",
              "      <td>36</td>\n",
              "      <td>89</td>\n",
              "      <td>61</td>\n",
              "      <td>0</td>\n",
              "    </tr>\n",
              "    <tr>\n",
              "      <th>4</th>\n",
              "      <td>7</td>\n",
              "      <td>44</td>\n",
              "      <td>86</td>\n",
              "      <td>58</td>\n",
              "      <td>0</td>\n",
              "    </tr>\n",
              "    <tr>\n",
              "      <th>...</th>\n",
              "      <td>...</td>\n",
              "      <td>...</td>\n",
              "      <td>...</td>\n",
              "      <td>...</td>\n",
              "      <td>...</td>\n",
              "    </tr>\n",
              "    <tr>\n",
              "      <th>1314</th>\n",
              "      <td>10</td>\n",
              "      <td>71</td>\n",
              "      <td>82</td>\n",
              "      <td>103</td>\n",
              "      <td>0</td>\n",
              "    </tr>\n",
              "    <tr>\n",
              "      <th>1315</th>\n",
              "      <td>10</td>\n",
              "      <td>71</td>\n",
              "      <td>87</td>\n",
              "      <td>105</td>\n",
              "      <td>0</td>\n",
              "    </tr>\n",
              "    <tr>\n",
              "      <th>1316</th>\n",
              "      <td>10</td>\n",
              "      <td>72</td>\n",
              "      <td>82</td>\n",
              "      <td>107</td>\n",
              "      <td>0</td>\n",
              "    </tr>\n",
              "    <tr>\n",
              "      <th>1317</th>\n",
              "      <td>10</td>\n",
              "      <td>70</td>\n",
              "      <td>69</td>\n",
              "      <td>106</td>\n",
              "      <td>0</td>\n",
              "    </tr>\n",
              "    <tr>\n",
              "      <th>1318</th>\n",
              "      <td>10</td>\n",
              "      <td>66</td>\n",
              "      <td>64</td>\n",
              "      <td>99</td>\n",
              "      <td>0</td>\n",
              "    </tr>\n",
              "  </tbody>\n",
              "</table>\n",
              "<p>1315 rows × 5 columns</p>\n",
              "</div>"
            ],
            "text/plain": [
              "      VisibilityLowMiles  DewPointHighF  HumidityHighPercent  TempHighF  \\\n",
              "0                      2             67                   93         74   \n",
              "1                      5             43                   93         56   \n",
              "2                     10             31                   76         58   \n",
              "3                      7             36                   89         61   \n",
              "4                      7             44                   86         58   \n",
              "...                  ...            ...                  ...        ...   \n",
              "1314                  10             71                   82        103   \n",
              "1315                  10             71                   87        105   \n",
              "1316                  10             72                   82        107   \n",
              "1317                  10             70                   69        106   \n",
              "1318                  10             66                   64         99   \n",
              "\n",
              "     PrecipitateRange  \n",
              "0                   3  \n",
              "1                   0  \n",
              "2                   0  \n",
              "3                   0  \n",
              "4                   0  \n",
              "...               ...  \n",
              "1314                0  \n",
              "1315                0  \n",
              "1316                0  \n",
              "1317                0  \n",
              "1318                0  \n",
              "\n",
              "[1315 rows x 5 columns]"
            ]
          },
          "execution_count": 115,
          "metadata": {},
          "output_type": "execute_result"
        }
      ],
      "source": [
        "weather2 = weather[imprt_feature]\n",
        "weather2"
      ]
    },
    {
      "cell_type": "code",
      "execution_count": null,
      "metadata": {
        "id": "Ykoa-B3oBnAN"
      },
      "outputs": [],
      "source": [
        "weather2.to_csv('preprocessed_data.csv', index=False)"
      ]
    },
    {
      "cell_type": "code",
      "execution_count": null,
      "metadata": {
        "id": "V3Xb3vLkf1b8"
      },
      "outputs": [],
      "source": [
        "from sklearn.model_selection import train_test_split\n",
        "x = weather2.drop(['PrecipitateRange'],axis=1)\n",
        "y = weather2['PrecipitateRange']"
      ]
    },
    {
      "cell_type": "code",
      "execution_count": null,
      "metadata": {
        "id": "52bvdynCf1eb"
      },
      "outputs": [],
      "source": [
        "X_train, X_test, y_train, y_test = train_test_split(x, y, test_size=0.2, shuffle = False)"
      ]
    },
    {
      "cell_type": "markdown",
      "metadata": {
        "id": "qaI_qtghgi_V"
      },
      "source": [
        "##RF"
      ]
    },
    {
      "cell_type": "code",
      "execution_count": null,
      "metadata": {
        "id": "Fb6h2XAKhM82"
      },
      "outputs": [],
      "source": [
        "from sklearn.ensemble import RandomForestClassifier\n",
        "from sklearn.metrics import accuracy_score"
      ]
    },
    {
      "cell_type": "code",
      "execution_count": null,
      "metadata": {
        "id": "CXNj0za6hM82"
      },
      "outputs": [],
      "source": [
        "RF_model = RandomForestClassifier(n_estimators=100, random_state=0)\n",
        "\n",
        "\n",
        "\n",
        "# fit the model to the training set\n",
        "\n",
        "RF_model.fit(X_train, y_train)\n",
        "\n",
        "\n",
        "\n",
        "# Predict on the test set results\n",
        "\n",
        "y_pred_100 = RF_model.predict(X_test)\n",
        "\n"
      ]
    },
    {
      "cell_type": "code",
      "execution_count": null,
      "metadata": {
        "colab": {
          "base_uri": "https://localhost:8080/"
        },
        "id": "DlEejBDNhM83",
        "outputId": "8578e7e4-bac3-41ff-9a9e-2bdd1fdfa130"
      },
      "outputs": [
        {
          "name": "stdout",
          "output_type": "stream",
          "text": [
            "Confusion matrix\n",
            "\n",
            " [[195   2   4   5]\n",
            " [ 11   0   2   4]\n",
            " [  4   0   2   6]\n",
            " [  5   1   6  16]]\n"
          ]
        }
      ],
      "source": [
        "# Print the Confusion Matrix and slice it into four pieces\n",
        "\n",
        "from sklearn.metrics import confusion_matrix\n",
        "\n",
        "cm = confusion_matrix(y_test, y_pred_100)\n",
        "\n",
        "print('Confusion matrix\\n\\n', cm)"
      ]
    },
    {
      "cell_type": "code",
      "execution_count": null,
      "metadata": {
        "colab": {
          "base_uri": "https://localhost:8080/"
        },
        "id": "ipP9cJK-hM83",
        "outputId": "ecd49981-7864-4cf2-ae5c-957c2026c3a0"
      },
      "outputs": [
        {
          "name": "stdout",
          "output_type": "stream",
          "text": [
            "accuracy_score is  0.8098859315589354\n",
            "precision is  0.7718749350564147\n",
            "f1 score is  0.7903572184158167\n",
            "recall is  0.8098859315589354\n"
          ]
        }
      ],
      "source": [
        "print(\"accuracy_score is \",metrics.accuracy_score(y_test, y_pred_100))\n",
        "print(\"precision is \",metrics.precision_score(y_test, y_pred_100, average='weighted'))\n",
        "print(\"f1 score is \",metrics.f1_score(y_test, y_pred_100, average='weighted'))\n",
        "print(\"recall is \",metrics.recall_score(y_test, y_pred_100, average='weighted'))"
      ]
    },
    {
      "cell_type": "code",
      "execution_count": null,
      "metadata": {
        "id": "qAK9rviHhM83"
      },
      "outputs": [],
      "source": [
        "acc_RF = metrics.accuracy_score(y_test, y_pred_100)"
      ]
    },
    {
      "cell_type": "code",
      "execution_count": null,
      "metadata": {
        "id": "lfUNgO68krpR"
      },
      "outputs": [],
      "source": [
        "RF_class = 0"
      ]
    },
    {
      "cell_type": "code",
      "execution_count": null,
      "metadata": {
        "colab": {
          "base_uri": "https://localhost:8080/",
          "height": 691
        },
        "id": "H8mpQ9iCjwJ7",
        "outputId": "24b88a0c-33bd-4f70-806e-23ca1e45f700"
      },
      "outputs": [
        {
          "name": "stdout",
          "output_type": "stream",
          "text": [
            "All classes have been predicted\n",
            "               precision    recall  f1-score   support\n",
            "\n",
            "      no rain       0.91      0.95      0.93       206\n",
            "   small rain       0.00      0.00      0.00        17\n",
            "moderate rain       0.14      0.17      0.15        12\n",
            "   heavy rain       0.52      0.57      0.54        28\n",
            "\n",
            "     accuracy                           0.81       263\n",
            "    macro avg       0.39      0.42      0.41       263\n",
            " weighted avg       0.77      0.81      0.79       263\n",
            "\n"
          ]
        },
        {
          "data": {
            "image/png": "[encoded data removed]",
            "text/plain": [
              "<Figure size 640x480 with 2 Axes>"
            ]
          },
          "metadata": {},
          "output_type": "display_data"
        }
      ],
      "source": [
        "from sklearn.metrics import confusion_matrix, classification_report\n",
        "import seaborn as sns\n",
        "import matplotlib.pyplot as plt\n",
        "\n",
        "# y_test and y_pred are the true and predicted labels, respectively\n",
        "cm = confusion_matrix(y_test, y_pred_100)\n",
        "\n",
        "# Define class labels\n",
        "class_labels = ['no rain', 'small rain', 'moderate rain', 'heavy rain']\n",
        "\n",
        "# Check if all classes are predicted\n",
        "if set(y_test) == set(y_pred_100):\n",
        "    RF_class = 1\n",
        "    print(\"All classes have been predicted\")\n",
        "else:\n",
        "    print(\"Some classes have not been predicted\")\n",
        "\n",
        "# Create a heatmap visualization of the confusion matrix\n",
        "sns.heatmap(cm, annot=True, cmap='Blues', fmt='d', xticklabels=class_labels, yticklabels=class_labels)\n",
        "plt.xlabel('Predicted')\n",
        "plt.ylabel('Actual')\n",
        "plt.title('Confusion Matrix')\n",
        "\n",
        "# Print classification report with precision, recall, and F1-score\n",
        "print(classification_report(y_test, y_pred_100, target_names=class_labels))\n"
      ]
    },
    {
      "cell_type": "markdown",
      "metadata": {
        "id": "fBV-6xiPhTYH"
      },
      "source": [
        "##XGBoost"
      ]
    },
    {
      "cell_type": "code",
      "execution_count": null,
      "metadata": {
        "id": "by7ZgedZhaBI"
      },
      "outputs": [],
      "source": [
        "from sklearn import metrics"
      ]
    },
    {
      "cell_type": "code",
      "execution_count": null,
      "metadata": {
        "id": "pPiiNHBhhaBJ"
      },
      "outputs": [],
      "source": [
        "from xgboost import XGBClassifier\n",
        "# from sklearn.preprocessing import MinMaxScaler\n",
        "# # from sklearn.preprocessing import LabelEncoder\n",
        "# # le = LabelEncoder()\n",
        "# # y_train = le.fit_transform(y_train)\n",
        "\n",
        "XGB_model = XGBClassifier()\n",
        "# fit model\n",
        "XGB_model.fit(X_train, y_train)\n",
        "# make predictions\n",
        "y_pred_xgb = XGB_model.predict(X_test)"
      ]
    },
    {
      "cell_type": "code",
      "execution_count": null,
      "metadata": {
        "colab": {
          "base_uri": "https://localhost:8080/"
        },
        "id": "4Vmt8Nr5haBJ",
        "outputId": "5c583f60-e225-4848-ad12-e04a82156681"
      },
      "outputs": [
        {
          "name": "stdout",
          "output_type": "stream",
          "text": [
            "accuracy_score is  0.7984790874524715\n",
            "precision is  0.7725591968937977\n",
            "f1 score is  0.7826006908954308\n",
            "recall is  0.7984790874524715\n"
          ]
        }
      ],
      "source": [
        "print(\"accuracy_score is \",metrics.accuracy_score(y_test, y_pred_xgb))\n",
        "print(\"precision is \",metrics.precision_score(y_test, y_pred_xgb,average='weighted'))\n",
        "print(\"f1 score is \",metrics.f1_score(y_test, y_pred_xgb, average='weighted'))\n",
        "print(\"recall is \",metrics.recall_score(y_test, y_pred_xgb, average='weighted'))"
      ]
    },
    {
      "cell_type": "code",
      "execution_count": null,
      "metadata": {
        "id": "lizJyzIUhaBJ"
      },
      "outputs": [],
      "source": [
        "acc_XGBoost = metrics.accuracy_score(y_test, y_pred_xgb)"
      ]
    },
    {
      "cell_type": "code",
      "execution_count": null,
      "metadata": {
        "id": "1mxqg-0Vk1e7"
      },
      "outputs": [],
      "source": [
        "XGB_class = 0"
      ]
    },
    {
      "cell_type": "code",
      "execution_count": null,
      "metadata": {
        "colab": {
          "base_uri": "https://localhost:8080/",
          "height": 691
        },
        "id": "6wEdxaVZjfSc",
        "outputId": "e44bfe8d-abf3-455a-a23a-7358a20fa05e"
      },
      "outputs": [
        {
          "name": "stdout",
          "output_type": "stream",
          "text": [
            "All classes have been predicted\n",
            "               precision    recall  f1-score   support\n",
            "\n",
            "      no rain       0.91      0.95      0.93       206\n",
            "   small rain       0.20      0.06      0.09        17\n",
            "moderate rain       0.07      0.08      0.08        12\n",
            "   heavy rain       0.43      0.43      0.43        28\n",
            "\n",
            "     accuracy                           0.80       263\n",
            "    macro avg       0.40      0.38      0.38       263\n",
            " weighted avg       0.77      0.80      0.78       263\n",
            "\n"
          ]
        },
        {
          "data": {
            "image/png": "[encoded data removed]",
            "text/plain": [
              "<Figure size 640x480 with 2 Axes>"
            ]
          },
          "metadata": {},
          "output_type": "display_data"
        }
      ],
      "source": [
        "from sklearn.metrics import confusion_matrix, classification_report\n",
        "import seaborn as sns\n",
        "import matplotlib.pyplot as plt\n",
        "\n",
        "# y_test and y_pred are the true and predicted labels, respectively\n",
        "cm = confusion_matrix(y_test, y_pred_xgb)\n",
        "\n",
        "# Define class labels\n",
        "class_labels = ['no rain', 'small rain', 'moderate rain', 'heavy rain']\n",
        "\n",
        "# Check if all classes are predicted\n",
        "if set(y_test) == set(y_pred_xgb):\n",
        "    XGB_class = 1\n",
        "    print(\"All classes have been predicted\")\n",
        "else:\n",
        "    print(\"Some classes have not been predicted\")\n",
        "\n",
        "# Create a heatmap visualization of the confusion matrix\n",
        "sns.heatmap(cm, annot=True, cmap='Blues', fmt='d', xticklabels=class_labels, yticklabels=class_labels)\n",
        "plt.xlabel('Predicted')\n",
        "plt.ylabel('Actual')\n",
        "plt.title('Confusion Matrix')\n",
        "\n",
        "# Print classification report with precision, recall, and F1-score\n",
        "print(classification_report(y_test, y_pred_xgb, target_names=class_labels))\n"
      ]
    },
    {
      "cell_type": "markdown",
      "metadata": {
        "id": "ymuDUZa2gZFU"
      },
      "source": [
        "##SVM"
      ]
    },
    {
      "cell_type": "code",
      "execution_count": null,
      "metadata": {
        "id": "BUaqBrrrgdVq"
      },
      "outputs": [],
      "source": [
        "from sklearn.svm import SVC, SVR\n",
        "from sklearn import metrics\n",
        "from sklearn.preprocessing import StandardScaler, MinMaxScaler"
      ]
    },
    {
      "cell_type": "code",
      "execution_count": null,
      "metadata": {
        "id": "cy0H75QNg890"
      },
      "outputs": [],
      "source": [
        "from sklearn.svm import SVC, SVR\n",
        "from sklearn import metrics\n",
        "from sklearn.preprocessing import StandardScaler, MinMaxScaler"
      ]
    },
    {
      "cell_type": "code",
      "execution_count": null,
      "metadata": {
        "id": "L_r625zvg891"
      },
      "outputs": [],
      "source": [
        "SVM_model = SVC(kernel='rbf', C=1).fit(X_train, y_train)"
      ]
    },
    {
      "cell_type": "code",
      "execution_count": null,
      "metadata": {
        "id": "q1IYcEAWg891"
      },
      "outputs": [],
      "source": [
        "y_pred = SVM_model.predict(X_test)"
      ]
    },
    {
      "cell_type": "code",
      "execution_count": null,
      "metadata": {
        "colab": {
          "base_uri": "https://localhost:8080/"
        },
        "id": "6TSlEzawg892",
        "outputId": "1b03c4cb-8ab7-4959-a88b-e0f491ea011d"
      },
      "outputs": [
        {
          "name": "stdout",
          "output_type": "stream",
          "text": [
            "accuracy_score is  0.8288973384030418\n",
            "precision is  0.7404417991149171\n",
            "f1 score is  0.782065976701334\n",
            "recall is  0.8288973384030418\n"
          ]
        },
        {
          "name": "stderr",
          "output_type": "stream",
          "text": [
            "Precision is ill-defined and being set to 0.0 in labels with no predicted samples. Use `zero_division` parameter to control this behavior.\n"
          ]
        }
      ],
      "source": [
        "print(\"accuracy_score is \",metrics.accuracy_score(y_test, y_pred))\n",
        "print(\"precision is \",metrics.precision_score(y_test, y_pred, average='weighted'))\n",
        "print(\"f1 score is \",metrics.f1_score(y_test, y_pred, average='weighted'))\n",
        "print(\"recall is \",metrics.recall_score(y_test, y_pred, average='weighted'))"
      ]
    },
    {
      "cell_type": "code",
      "execution_count": null,
      "metadata": {
        "id": "RGkWjf3kg892"
      },
      "outputs": [],
      "source": [
        "acc_SVM = metrics.accuracy_score(y_test, y_pred)"
      ]
    },
    {
      "cell_type": "code",
      "execution_count": null,
      "metadata": {
        "id": "xCfw1G-HkgOU"
      },
      "outputs": [],
      "source": [
        "SVM_class = 0"
      ]
    },
    {
      "cell_type": "code",
      "execution_count": null,
      "metadata": {
        "colab": {
          "base_uri": "https://localhost:8080/",
          "height": 820
        },
        "id": "UmqG8xE7jq6d",
        "outputId": "42ad7a84-c972-4ef3-a373-2d96e90e760c"
      },
      "outputs": [
        {
          "name": "stdout",
          "output_type": "stream",
          "text": [
            "Some classes have not been predicted\n",
            "               precision    recall  f1-score   support\n",
            "\n",
            "      no rain       0.87      0.97      0.92       206\n",
            "   small rain       0.00      0.00      0.00        17\n",
            "moderate rain       0.00      0.00      0.00        12\n",
            "   heavy rain       0.53      0.64      0.58        28\n",
            "\n",
            "     accuracy                           0.83       263\n",
            "    macro avg       0.35      0.40      0.38       263\n",
            " weighted avg       0.74      0.83      0.78       263\n",
            "\n"
          ]
        },
        {
          "name": "stderr",
          "output_type": "stream",
          "text": [
            "Precision and F-score are ill-defined and being set to 0.0 in labels with no predicted samples. Use `zero_division` parameter to control this behavior.\n",
            "Precision and F-score are ill-defined and being set to 0.0 in labels with no predicted samples. Use `zero_division` parameter to control this behavior.\n",
            "Precision and F-score are ill-defined and being set to 0.0 in labels with no predicted samples. Use `zero_division` parameter to control this behavior.\n"
          ]
        },
        {
          "data": {
            "image/png": "[encoded data removed]",
            "text/plain": [
              "<Figure size 640x480 with 2 Axes>"
            ]
          },
          "metadata": {},
          "output_type": "display_data"
        }
      ],
      "source": [
        "from sklearn.metrics import confusion_matrix, classification_report\n",
        "import seaborn as sns\n",
        "import matplotlib.pyplot as plt\n",
        "\n",
        "# y_test and y_pred are the true and predicted labels, respectively\n",
        "cm = confusion_matrix(y_test, y_pred)\n",
        "\n",
        "# Define class labels\n",
        "class_labels = ['no rain', 'small rain', 'moderate rain', 'heavy rain']\n",
        "\n",
        "# Check if all classes are predicted\n",
        "if set(y_test) == set(y_pred):\n",
        "    SVM_class = 1\n",
        "    print(\"All classes have been predicted\")\n",
        "else:\n",
        "    print(\"Some classes have not been predicted\")\n",
        "\n",
        "# Create a heatmap visualization of the confusion matrix\n",
        "sns.heatmap(cm, annot=True, cmap='Blues', fmt='d', xticklabels=class_labels, yticklabels=class_labels)\n",
        "plt.xlabel('Predicted')\n",
        "plt.ylabel('Actual')\n",
        "plt.title('Confusion Matrix')\n",
        "\n",
        "# Print classification report with precision, recall, and F1-score\n",
        "print(classification_report(y_test, y_pred, target_names=class_labels))\n"
      ]
    },
    {
      "cell_type": "markdown",
      "metadata": {
        "id": "wgS3QmNnh6ot"
      },
      "source": [
        "##LSTM"
      ]
    },
    {
      "cell_type": "code",
      "execution_count": null,
      "metadata": {
        "id": "JrqZ1Ow-h_-u"
      },
      "outputs": [],
      "source": [
        "from keras.utils import to_categorical"
      ]
    },
    {
      "cell_type": "code",
      "execution_count": null,
      "metadata": {
        "id": "5-oDTZF5h_-v"
      },
      "outputs": [],
      "source": [
        "y_onehot = to_categorical(y)"
      ]
    },
    {
      "cell_type": "code",
      "execution_count": null,
      "metadata": {
        "id": "Q4Zersl6h_-v"
      },
      "outputs": [],
      "source": [
        "y_train_lstm = to_categorical(y_train)"
      ]
    },
    {
      "cell_type": "code",
      "execution_count": null,
      "metadata": {
        "id": "pfcqe-bih_-v"
      },
      "outputs": [],
      "source": [
        "y_test_lstm = to_categorical(y_test)"
      ]
    },
    {
      "cell_type": "code",
      "execution_count": null,
      "metadata": {
        "id": "uTYL0aRIh_-v"
      },
      "outputs": [],
      "source": [
        "from sklearn.preprocessing import MinMaxScaler\n",
        "from sklearn.model_selection import train_test_split\n",
        "from tensorflow.keras.models import Sequential\n",
        "from tensorflow.keras.layers import LSTM, Dense"
      ]
    },
    {
      "cell_type": "code",
      "execution_count": null,
      "metadata": {
        "id": "2K1lb1Cch_-v"
      },
      "outputs": [],
      "source": [
        "scalerX = MinMaxScaler()\n",
        "scalerY = MinMaxScaler()"
      ]
    },
    {
      "cell_type": "code",
      "execution_count": null,
      "metadata": {
        "id": "k7T3HP8Jh_-v"
      },
      "outputs": [],
      "source": [
        "X_trainLSTM = scalerX.fit_transform(X_train)\n",
        "X_testLSTM = scalerX.transform(X_test)"
      ]
    },
    {
      "cell_type": "code",
      "execution_count": null,
      "metadata": {
        "id": "Kaey5Linh_-v"
      },
      "outputs": [],
      "source": [
        "import tensorflow as tf"
      ]
    },
    {
      "cell_type": "code",
      "execution_count": null,
      "metadata": {
        "id": "CT3UJFYLh_-v"
      },
      "outputs": [],
      "source": [
        "#reshape input data to a 3D tensor\n",
        "X_train_reshaped = X_trainLSTM.reshape((X_trainLSTM.shape[0], 1, X_trainLSTM.shape[1]))\n",
        "X_test_reshaped = X_testLSTM.reshape((X_testLSTM.shape[0], 1, X_testLSTM.shape[1]))"
      ]
    },
    {
      "cell_type": "code",
      "execution_count": null,
      "metadata": {
        "id": "gAyozJOnh_-v"
      },
      "outputs": [],
      "source": [
        "X_train2 = tf.convert_to_tensor(X_train_reshaped, dtype=tf.float32)\n",
        "X_test2 = tf.convert_to_tensor(X_test_reshaped, dtype=tf.float32)\n"
      ]
    },
    {
      "cell_type": "code",
      "execution_count": null,
      "metadata": {
        "id": "-0C94D9_h_-v"
      },
      "outputs": [],
      "source": [
        "Y_train2 = tf.convert_to_tensor(y_train_lstm)"
      ]
    },
    {
      "cell_type": "code",
      "execution_count": null,
      "metadata": {
        "id": "UQXG4RRth_-v"
      },
      "outputs": [],
      "source": [
        "Y_test2 = tf.convert_to_tensor(y_test_lstm)"
      ]
    },
    {
      "cell_type": "code",
      "execution_count": null,
      "metadata": {
        "id": "sSIgrrSph_-w"
      },
      "outputs": [],
      "source": [
        "LSTM_model = Sequential()\n",
        "LSTM_model.add(LSTM(30, activation='relu', return_sequences=True, input_shape=(1, X_train2.shape[2])))\n",
        "LSTM_model.add(LSTM(30, activation='relu', return_sequences=True))\n",
        "LSTM_model.add(LSTM(30, activation='relu', return_sequences=True))\n",
        "LSTM_model.add(LSTM(30, activation='relu'))\n",
        "LSTM_model.add(Dense(4, activation='softmax'))"
      ]
    },
    {
      "cell_type": "code",
      "execution_count": null,
      "metadata": {
        "id": "4uTxt3qrh_-w"
      },
      "outputs": [],
      "source": [
        "#compile model\n",
        "LSTM_model.compile(optimizer='adam', loss='binary_crossentropy', metrics=['accuracy'])"
      ]
    },
    {
      "cell_type": "code",
      "execution_count": null,
      "metadata": {
        "colab": {
          "base_uri": "https://localhost:8080/"
        },
        "id": "PYf42V0kh_-w",
        "outputId": "a43e21d3-eef7-4ee1-ac2f-13b7dfa01a18"
      },
      "outputs": [
        {
          "name": "stdout",
          "output_type": "stream",
          "text": [
            "Epoch 1/100\n",
            "17/17 - 3s - loss: 0.6892 - accuracy: 0.7006 - 3s/epoch - 156ms/step\n",
            "Epoch 2/100\n",
            "17/17 - 0s - loss: 0.6796 - accuracy: 0.7452 - 25ms/epoch - 1ms/step\n",
            "Epoch 3/100\n",
            "17/17 - 0s - loss: 0.6677 - accuracy: 0.7452 - 25ms/epoch - 1ms/step\n",
            "Epoch 4/100\n",
            "17/17 - 0s - loss: 0.6492 - accuracy: 0.7452 - 26ms/epoch - 2ms/step\n",
            "Epoch 5/100\n",
            "17/17 - 0s - loss: 0.6068 - accuracy: 0.7452 - 26ms/epoch - 2ms/step\n",
            "Epoch 6/100\n",
            "17/17 - 0s - loss: 0.4538 - accuracy: 0.7452 - 25ms/epoch - 1ms/step\n",
            "Epoch 7/100\n",
            "17/17 - 0s - loss: 0.3344 - accuracy: 0.7452 - 27ms/epoch - 2ms/step\n",
            "Epoch 8/100\n",
            "17/17 - 0s - loss: 0.3168 - accuracy: 0.7452 - 26ms/epoch - 2ms/step\n",
            "Epoch 9/100\n",
            "17/17 - 0s - loss: 0.3091 - accuracy: 0.7452 - 25ms/epoch - 1ms/step\n",
            "Epoch 10/100\n",
            "17/17 - 0s - loss: 0.3012 - accuracy: 0.7452 - 26ms/epoch - 2ms/step\n",
            "Epoch 11/100\n",
            "17/17 - 0s - loss: 0.2958 - accuracy: 0.7452 - 25ms/epoch - 1ms/step\n",
            "Epoch 12/100\n",
            "17/17 - 0s - loss: 0.2914 - accuracy: 0.7452 - 25ms/epoch - 1ms/step\n",
            "Epoch 13/100\n",
            "17/17 - 0s - loss: 0.2881 - accuracy: 0.7452 - 24ms/epoch - 1ms/step\n",
            "Epoch 14/100\n",
            "17/17 - 0s - loss: 0.2850 - accuracy: 0.7452 - 23ms/epoch - 1ms/step\n",
            "Epoch 15/100\n",
            "17/17 - 0s - loss: 0.2817 - accuracy: 0.7452 - 25ms/epoch - 1ms/step\n",
            "Epoch 16/100\n",
            "17/17 - 0s - loss: 0.2794 - accuracy: 0.7452 - 24ms/epoch - 1ms/step\n",
            "Epoch 17/100\n",
            "17/17 - 0s - loss: 0.2775 - accuracy: 0.7452 - 24ms/epoch - 1ms/step\n",
            "Epoch 18/100\n",
            "17/17 - 0s - loss: 0.2758 - accuracy: 0.7452 - 24ms/epoch - 1ms/step\n",
            "Epoch 19/100\n",
            "17/17 - 0s - loss: 0.2748 - accuracy: 0.7452 - 24ms/epoch - 1ms/step\n",
            "Epoch 20/100\n",
            "17/17 - 0s - loss: 0.2723 - accuracy: 0.7452 - 24ms/epoch - 1ms/step\n",
            "Epoch 21/100\n",
            "17/17 - 0s - loss: 0.2709 - accuracy: 0.7452 - 24ms/epoch - 1ms/step\n",
            "Epoch 22/100\n",
            "17/17 - 0s - loss: 0.2696 - accuracy: 0.7452 - 23ms/epoch - 1ms/step\n",
            "Epoch 23/100\n",
            "17/17 - 0s - loss: 0.2687 - accuracy: 0.7452 - 24ms/epoch - 1ms/step\n",
            "Epoch 24/100\n",
            "17/17 - 0s - loss: 0.2671 - accuracy: 0.7452 - 25ms/epoch - 1ms/step\n",
            "Epoch 25/100\n",
            "17/17 - 0s - loss: 0.2671 - accuracy: 0.7452 - 24ms/epoch - 1ms/step\n",
            "Epoch 26/100\n",
            "17/17 - 0s - loss: 0.2646 - accuracy: 0.7452 - 25ms/epoch - 1ms/step\n",
            "Epoch 27/100\n",
            "17/17 - 0s - loss: 0.2637 - accuracy: 0.7452 - 25ms/epoch - 1ms/step\n",
            "Epoch 28/100\n",
            "17/17 - 0s - loss: 0.2621 - accuracy: 0.7452 - 23ms/epoch - 1ms/step\n",
            "Epoch 29/100\n",
            "17/17 - 0s - loss: 0.2609 - accuracy: 0.7452 - 23ms/epoch - 1ms/step\n",
            "Epoch 30/100\n",
            "17/17 - 0s - loss: 0.2597 - accuracy: 0.7452 - 23ms/epoch - 1ms/step\n",
            "Epoch 31/100\n",
            "17/17 - 0s - loss: 0.2589 - accuracy: 0.7452 - 24ms/epoch - 1ms/step\n",
            "Epoch 32/100\n",
            "17/17 - 0s - loss: 0.2574 - accuracy: 0.7452 - 25ms/epoch - 1ms/step\n",
            "Epoch 33/100\n",
            "17/17 - 0s - loss: 0.2567 - accuracy: 0.7452 - 24ms/epoch - 1ms/step\n",
            "Epoch 34/100\n",
            "17/17 - 0s - loss: 0.2557 - accuracy: 0.7452 - 24ms/epoch - 1ms/step\n",
            "Epoch 35/100\n",
            "17/17 - 0s - loss: 0.2544 - accuracy: 0.7452 - 24ms/epoch - 1ms/step\n",
            "Epoch 36/100\n",
            "17/17 - 0s - loss: 0.2537 - accuracy: 0.7452 - 23ms/epoch - 1ms/step\n",
            "Epoch 37/100\n",
            "17/17 - 0s - loss: 0.2526 - accuracy: 0.7452 - 24ms/epoch - 1ms/step\n",
            "Epoch 38/100\n",
            "17/17 - 0s - loss: 0.2515 - accuracy: 0.7452 - 25ms/epoch - 1ms/step\n",
            "Epoch 39/100\n",
            "17/17 - 0s - loss: 0.2509 - accuracy: 0.7452 - 24ms/epoch - 1ms/step\n",
            "Epoch 40/100\n",
            "17/17 - 0s - loss: 0.2497 - accuracy: 0.7452 - 24ms/epoch - 1ms/step\n",
            "Epoch 41/100\n",
            "17/17 - 0s - loss: 0.2483 - accuracy: 0.7452 - 25ms/epoch - 1ms/step\n",
            "Epoch 42/100\n",
            "17/17 - 0s - loss: 0.2482 - accuracy: 0.7452 - 25ms/epoch - 1ms/step\n",
            "Epoch 43/100\n",
            "17/17 - 0s - loss: 0.2466 - accuracy: 0.7452 - 25ms/epoch - 1ms/step\n",
            "Epoch 44/100\n",
            "17/17 - 0s - loss: 0.2469 - accuracy: 0.7452 - 25ms/epoch - 1ms/step\n",
            "Epoch 45/100\n",
            "17/17 - 0s - loss: 0.2446 - accuracy: 0.7452 - 24ms/epoch - 1ms/step\n",
            "Epoch 46/100\n",
            "17/17 - 0s - loss: 0.2440 - accuracy: 0.7452 - 25ms/epoch - 1ms/step\n",
            "Epoch 47/100\n",
            "17/17 - 0s - loss: 0.2426 - accuracy: 0.7452 - 26ms/epoch - 2ms/step\n",
            "Epoch 48/100\n",
            "17/17 - 0s - loss: 0.2418 - accuracy: 0.7452 - 24ms/epoch - 1ms/step\n",
            "Epoch 49/100\n",
            "17/17 - 0s - loss: 0.2407 - accuracy: 0.7452 - 24ms/epoch - 1ms/step\n",
            "Epoch 50/100\n",
            "17/17 - 0s - loss: 0.2404 - accuracy: 0.7433 - 25ms/epoch - 1ms/step\n",
            "Epoch 51/100\n",
            "17/17 - 0s - loss: 0.2403 - accuracy: 0.7424 - 24ms/epoch - 1ms/step\n",
            "Epoch 52/100\n",
            "17/17 - 0s - loss: 0.2382 - accuracy: 0.7433 - 24ms/epoch - 1ms/step\n",
            "Epoch 53/100\n",
            "17/17 - 0s - loss: 0.2377 - accuracy: 0.7567 - 25ms/epoch - 1ms/step\n",
            "Epoch 54/100\n",
            "17/17 - 0s - loss: 0.2369 - accuracy: 0.7852 - 24ms/epoch - 1ms/step\n",
            "Epoch 55/100\n",
            "17/17 - 0s - loss: 0.2360 - accuracy: 0.7681 - 24ms/epoch - 1ms/step\n",
            "Epoch 56/100\n",
            "17/17 - 0s - loss: 0.2354 - accuracy: 0.7861 - 24ms/epoch - 1ms/step\n",
            "Epoch 57/100\n",
            "17/17 - 0s - loss: 0.2349 - accuracy: 0.8004 - 25ms/epoch - 1ms/step\n",
            "Epoch 58/100\n",
            "17/17 - 0s - loss: 0.2344 - accuracy: 0.7899 - 25ms/epoch - 1ms/step\n",
            "Epoch 59/100\n",
            "17/17 - 0s - loss: 0.2334 - accuracy: 0.8032 - 24ms/epoch - 1ms/step\n",
            "Epoch 60/100\n",
            "17/17 - 0s - loss: 0.2324 - accuracy: 0.8042 - 24ms/epoch - 1ms/step\n",
            "Epoch 61/100\n",
            "17/17 - 0s - loss: 0.2321 - accuracy: 0.8042 - 24ms/epoch - 1ms/step\n",
            "Epoch 62/100\n",
            "17/17 - 0s - loss: 0.2314 - accuracy: 0.8137 - 23ms/epoch - 1ms/step\n",
            "Epoch 63/100\n",
            "17/17 - 0s - loss: 0.2308 - accuracy: 0.8089 - 25ms/epoch - 1ms/step\n",
            "Epoch 64/100\n",
            "17/17 - 0s - loss: 0.2306 - accuracy: 0.8061 - 23ms/epoch - 1ms/step\n",
            "Epoch 65/100\n",
            "17/17 - 0s - loss: 0.2310 - accuracy: 0.8118 - 24ms/epoch - 1ms/step\n",
            "Epoch 66/100\n",
            "17/17 - 0s - loss: 0.2297 - accuracy: 0.8089 - 24ms/epoch - 1ms/step\n",
            "Epoch 67/100\n",
            "17/17 - 0s - loss: 0.2295 - accuracy: 0.8146 - 25ms/epoch - 1ms/step\n",
            "Epoch 68/100\n",
            "17/17 - 0s - loss: 0.2291 - accuracy: 0.8089 - 25ms/epoch - 1ms/step\n",
            "Epoch 69/100\n",
            "17/17 - 0s - loss: 0.2285 - accuracy: 0.8127 - 24ms/epoch - 1ms/step\n",
            "Epoch 70/100\n",
            "17/17 - 0s - loss: 0.2284 - accuracy: 0.8165 - 25ms/epoch - 1ms/step\n",
            "Epoch 71/100\n",
            "17/17 - 0s - loss: 0.2277 - accuracy: 0.8165 - 25ms/epoch - 1ms/step\n",
            "Epoch 72/100\n",
            "17/17 - 0s - loss: 0.2275 - accuracy: 0.8203 - 24ms/epoch - 1ms/step\n",
            "Epoch 73/100\n",
            "17/17 - 0s - loss: 0.2272 - accuracy: 0.8156 - 25ms/epoch - 1ms/step\n",
            "Epoch 74/100\n",
            "17/17 - 0s - loss: 0.2272 - accuracy: 0.8156 - 25ms/epoch - 1ms/step\n",
            "Epoch 75/100\n",
            "17/17 - 0s - loss: 0.2262 - accuracy: 0.8175 - 24ms/epoch - 1ms/step\n",
            "Epoch 76/100\n",
            "17/17 - 0s - loss: 0.2262 - accuracy: 0.8165 - 25ms/epoch - 1ms/step\n",
            "Epoch 77/100\n",
            "17/17 - 0s - loss: 0.2260 - accuracy: 0.8146 - 25ms/epoch - 1ms/step\n",
            "Epoch 78/100\n",
            "17/17 - 0s - loss: 0.2258 - accuracy: 0.8194 - 25ms/epoch - 1ms/step\n",
            "Epoch 79/100\n",
            "17/17 - 0s - loss: 0.2259 - accuracy: 0.8146 - 24ms/epoch - 1ms/step\n",
            "Epoch 80/100\n",
            "17/17 - 0s - loss: 0.2251 - accuracy: 0.8175 - 24ms/epoch - 1ms/step\n",
            "Epoch 81/100\n",
            "17/17 - 0s - loss: 0.2252 - accuracy: 0.8165 - 24ms/epoch - 1ms/step\n",
            "Epoch 82/100\n",
            "17/17 - 0s - loss: 0.2243 - accuracy: 0.8118 - 24ms/epoch - 1ms/step\n",
            "Epoch 83/100\n",
            "17/17 - 0s - loss: 0.2242 - accuracy: 0.8165 - 24ms/epoch - 1ms/step\n",
            "Epoch 84/100\n",
            "17/17 - 0s - loss: 0.2240 - accuracy: 0.8175 - 23ms/epoch - 1ms/step\n",
            "Epoch 85/100\n",
            "17/17 - 0s - loss: 0.2240 - accuracy: 0.8175 - 30ms/epoch - 2ms/step\n",
            "Epoch 86/100\n",
            "17/17 - 0s - loss: 0.2241 - accuracy: 0.8184 - 23ms/epoch - 1ms/step\n",
            "Epoch 87/100\n",
            "17/17 - 0s - loss: 0.2235 - accuracy: 0.8194 - 24ms/epoch - 1ms/step\n",
            "Epoch 88/100\n",
            "17/17 - 0s - loss: 0.2233 - accuracy: 0.8194 - 24ms/epoch - 1ms/step\n",
            "Epoch 89/100\n",
            "17/17 - 0s - loss: 0.2239 - accuracy: 0.8137 - 24ms/epoch - 1ms/step\n",
            "Epoch 90/100\n",
            "17/17 - 0s - loss: 0.2235 - accuracy: 0.8194 - 24ms/epoch - 1ms/step\n",
            "Epoch 91/100\n",
            "17/17 - 0s - loss: 0.2238 - accuracy: 0.8194 - 24ms/epoch - 1ms/step\n",
            "Epoch 92/100\n",
            "17/17 - 0s - loss: 0.2224 - accuracy: 0.8175 - 24ms/epoch - 1ms/step\n",
            "Epoch 93/100\n",
            "17/17 - 0s - loss: 0.2222 - accuracy: 0.8184 - 24ms/epoch - 1ms/step\n",
            "Epoch 94/100\n",
            "17/17 - 0s - loss: 0.2227 - accuracy: 0.8175 - 24ms/epoch - 1ms/step\n",
            "Epoch 95/100\n",
            "17/17 - 0s - loss: 0.2218 - accuracy: 0.8156 - 24ms/epoch - 1ms/step\n",
            "Epoch 96/100\n",
            "17/17 - 0s - loss: 0.2222 - accuracy: 0.8203 - 24ms/epoch - 1ms/step\n",
            "Epoch 97/100\n",
            "17/17 - 0s - loss: 0.2220 - accuracy: 0.8175 - 24ms/epoch - 1ms/step\n",
            "Epoch 98/100\n",
            "17/17 - 0s - loss: 0.2223 - accuracy: 0.8175 - 23ms/epoch - 1ms/step\n",
            "Epoch 99/100\n",
            "17/17 - 0s - loss: 0.2215 - accuracy: 0.8184 - 24ms/epoch - 1ms/step\n",
            "Epoch 100/100\n",
            "17/17 - 0s - loss: 0.2209 - accuracy: 0.8184 - 24ms/epoch - 1ms/step\n"
          ]
        },
        {
          "data": {
            "text/plain": [
              "<keras.callbacks.History at 0x21bd9652ee0>"
            ]
          },
          "execution_count": 153,
          "metadata": {},
          "output_type": "execute_result"
        }
      ],
      "source": [
        "LSTM_model.fit(X_train2, Y_train2, epochs=100, batch_size=64, verbose=2)"
      ]
    },
    {
      "cell_type": "code",
      "execution_count": null,
      "metadata": {
        "colab": {
          "base_uri": "https://localhost:8080/"
        },
        "id": "khQqilDWh_-w",
        "outputId": "547ef4e9-228a-4dbb-df8f-cda24b33dd4f"
      },
      "outputs": [
        {
          "name": "stdout",
          "output_type": "stream",
          "text": [
            "Test accuracy: 0.820\n"
          ]
        }
      ],
      "source": [
        "loss, accuracy = LSTM_model.evaluate(X_train2, Y_train2, verbose=0)\n",
        "print(f'Test accuracy: {accuracy:.3f}')"
      ]
    },
    {
      "cell_type": "code",
      "execution_count": null,
      "metadata": {
        "colab": {
          "base_uri": "https://localhost:8080/"
        },
        "id": "l5MZEdX_h_-w",
        "outputId": "30c288df-9707-451b-e0cd-35704ff4d892"
      },
      "outputs": [
        {
          "name": "stdout",
          "output_type": "stream",
          "text": [
            "9/9 [==============================] - 0s 761us/step\n"
          ]
        }
      ],
      "source": [
        "y_pred = LSTM_model.predict(X_test2)"
      ]
    },
    {
      "cell_type": "code",
      "execution_count": null,
      "metadata": {
        "id": "rOJfPZSEh_-w"
      },
      "outputs": [],
      "source": [
        "y_pred1 = np.around(y_pred)"
      ]
    },
    {
      "cell_type": "code",
      "execution_count": null,
      "metadata": {
        "id": "dNZ5dLB5h_-w"
      },
      "outputs": [],
      "source": [
        "y_test = np.argmax(y_test_lstm, axis=1)"
      ]
    },
    {
      "cell_type": "code",
      "execution_count": null,
      "metadata": {
        "id": "AcQchmxph_-w"
      },
      "outputs": [],
      "source": [
        "y_pred_ori = np.argmax(y_pred1, axis=1)"
      ]
    },
    {
      "cell_type": "code",
      "execution_count": null,
      "metadata": {
        "colab": {
          "base_uri": "https://localhost:8080/"
        },
        "id": "ooCZaFR8h_-w",
        "outputId": "a5f34f07-1011-4ae6-9eea-446b656b49a2"
      },
      "outputs": [
        {
          "name": "stdout",
          "output_type": "stream",
          "text": [
            "accuracy_score is  0.8174904942965779\n",
            "precision is  0.7301806205737313\n",
            "f1 score is  0.7712622530878558\n",
            "recall is  0.8174904942965779\n"
          ]
        },
        {
          "name": "stderr",
          "output_type": "stream",
          "text": [
            "Precision is ill-defined and being set to 0.0 in labels with no predicted samples. Use `zero_division` parameter to control this behavior.\n"
          ]
        }
      ],
      "source": [
        "from sklearn import metrics\n",
        "\n",
        "\n",
        "print(\"accuracy_score is \",metrics.accuracy_score(y_test, y_pred_ori))\n",
        "print(\"precision is \",metrics.precision_score(y_test, y_pred_ori, average='weighted'))\n",
        "print(\"f1 score is \",metrics.f1_score(y_test, y_pred_ori, average='weighted'))\n",
        "print(\"recall is \",metrics.recall_score(y_test, y_pred_ori, average='weighted'))"
      ]
    },
    {
      "cell_type": "code",
      "execution_count": null,
      "metadata": {
        "id": "1vb0m4xRh_-w"
      },
      "outputs": [],
      "source": [
        "acc_LSTM = metrics.accuracy_score(y_test, y_pred_ori)"
      ]
    },
    {
      "cell_type": "code",
      "execution_count": null,
      "metadata": {
        "id": "j3IFQehKlBFE"
      },
      "outputs": [],
      "source": [
        "LSTM_class = 0"
      ]
    },
    {
      "cell_type": "code",
      "execution_count": null,
      "metadata": {
        "colab": {
          "base_uri": "https://localhost:8080/",
          "height": 820
        },
        "id": "NcYYXeT3i7OP",
        "outputId": "f78f1e68-6b57-44a1-9f6f-887033fabc69"
      },
      "outputs": [
        {
          "name": "stdout",
          "output_type": "stream",
          "text": [
            "Some classes have not been predicted\n",
            "               precision    recall  f1-score   support\n",
            "\n",
            "      no rain       0.86      0.96      0.91       206\n",
            "   small rain       0.00      0.00      0.00        17\n",
            "moderate rain       0.00      0.00      0.00        12\n",
            "   heavy rain       0.53      0.64      0.58        28\n",
            "\n",
            "     accuracy                           0.82       263\n",
            "    macro avg       0.35      0.40      0.37       263\n",
            " weighted avg       0.73      0.82      0.77       263\n",
            "\n"
          ]
        },
        {
          "name": "stderr",
          "output_type": "stream",
          "text": [
            "Precision and F-score are ill-defined and being set to 0.0 in labels with no predicted samples. Use `zero_division` parameter to control this behavior.\n",
            "Precision and F-score are ill-defined and being set to 0.0 in labels with no predicted samples. Use `zero_division` parameter to control this behavior.\n",
            "Precision and F-score are ill-defined and being set to 0.0 in labels with no predicted samples. Use `zero_division` parameter to control this behavior.\n"
          ]
        },
        {
          "data": {
            "image/png": "[encoded data removed]",
            "text/plain": [
              "<Figure size 640x480 with 2 Axes>"
            ]
          },
          "metadata": {},
          "output_type": "display_data"
        }
      ],
      "source": [
        "from sklearn.metrics import confusion_matrix, classification_report\n",
        "import seaborn as sns\n",
        "import matplotlib.pyplot as plt\n",
        "\n",
        "# y_test and y_pred are the true and predicted labels, respectively\n",
        "cm = confusion_matrix(y_test, y_pred_ori)\n",
        "\n",
        "# Define class labels\n",
        "class_labels = ['no rain', 'small rain', 'moderate rain', 'heavy rain']\n",
        "\n",
        "# Check if all classes are predicted\n",
        "if set(y_test) == set(y_pred_ori):\n",
        "    LSTM_class = 1\n",
        "    print(\"All classes have been predicted\")\n",
        "else:\n",
        "    print(\"Some classes have not been predicted\")\n",
        "\n",
        "# Create a heatmap visualization of the confusion matrix\n",
        "sns.heatmap(cm, annot=True, cmap='Blues', fmt='d', xticklabels=class_labels, yticklabels=class_labels)\n",
        "plt.xlabel('Predicted')\n",
        "plt.ylabel('Actual')\n",
        "plt.title('Confusion Matrix')\n",
        "\n",
        "# Print classification report with precision, recall, and F1-score\n",
        "print(classification_report(y_test, y_pred_ori, target_names=class_labels))\n"
      ]
    },
    {
      "cell_type": "markdown",
      "metadata": {
        "id": "uOEaq0uutnoQ"
      },
      "source": [
        "#Selecting the best model and saving it"
      ]
    },
    {
      "cell_type": "code",
      "execution_count": null,
      "metadata": {
        "id": "8xG_g68vS8Dc"
      },
      "outputs": [],
      "source": [
        "import joblib"
      ]
    },
    {
      "cell_type": "code",
      "execution_count": null,
      "metadata": {
        "id": "nds8D-c3nh7w"
      },
      "outputs": [],
      "source": [
        "models = {\n",
        "    'SVM': SVM_model,\n",
        "    'RF': RF_model,\n",
        "    'XGBoost': XGB_model,\n",
        "    'LSTM': LSTM_model\n",
        "}"
      ]
    },
    {
      "cell_type": "code",
      "execution_count": null,
      "metadata": {
        "id": "cHeUYEQYlM32"
      },
      "outputs": [],
      "source": [
        "model_class = {\n",
        "    'SVM_class': SVM_class,\n",
        "    'RF_class': RF_class,\n",
        "    'XGB_class': XGB_class,\n",
        "    'LSTM_class': LSTM_class}"
      ]
    },
    {
      "cell_type": "code",
      "execution_count": null,
      "metadata": {
        "colab": {
          "base_uri": "https://localhost:8080/"
        },
        "id": "EMy24flqnOit",
        "outputId": "d13e9d7d-855e-49ec-db57-205808b9dc60"
      },
      "outputs": [
        {
          "name": "stdout",
          "output_type": "stream",
          "text": [
            "Model RF was able to predict all classes with an accuracy of 0.8098859315589354\n"
          ]
        }
      ],
      "source": [
        "# Define the class predictions\n",
        "class_predictions = [SVM_class, RF_class, XGB_class, LSTM_class]\n",
        "\n",
        "# Initialize an empty list to store models with a class prediction of 1\n",
        "class_one_models = []\n",
        "\n",
        "# Loop through the models and their class predictions\n",
        "for i, class_pred in enumerate(class_predictions):\n",
        "    # Check if the current model has a class prediction of 1\n",
        "    if class_pred == 1:\n",
        "        # If so, append the model name to the list of class one models\n",
        "        class_one_models.append(list(models.keys())[i])\n",
        "\n",
        "# Find the model with the highest accuracy among the class one models\n",
        "best_class_one_model = None\n",
        "best_class_one_acc = 0.0\n",
        "for model_name in class_one_models:\n",
        "    # Get the accuracy of the current model\n",
        "    model_acc = locals()[f'acc_{model_name}']\n",
        "    # Update the best class one model if the current model has a higher accuracy\n",
        "    if model_acc > best_class_one_acc:\n",
        "        best_class_one_model = model_name\n",
        "        best_class_one_acc = model_acc\n",
        "\n",
        "# Print the best class one model and its accuracy\n",
        "print(f\"Model {best_class_one_model} was able to predict all classes with an accuracy of {best_class_one_acc}\")\n"
      ]
    },
    {
      "cell_type": "code",
      "execution_count": null,
      "metadata": {
        "colab": {
          "base_uri": "https://localhost:8080/"
        },
        "id": "EfS_XnToozUC",
        "outputId": "de1a5468-b3d1-4e9a-fbc4-79aeb0a2cdd3"
      },
      "outputs": [
        {
          "data": {
            "text/plain": [
              "['rainpred_model.joblib']"
            ]
          },
          "execution_count": 167,
          "metadata": {},
          "output_type": "execute_result"
        }
      ],
      "source": [
        "joblib.dump(models[best_class_one_model], 'rainpred_model.joblib')"
      ]
    },
    {
      "cell_type": "code",
      "execution_count": null,
      "metadata": {
        "id": "NhOvEz8jBnAU"
      },
      "outputs": [],
      "source": [
        "model = joblib.load('rainpred_model.joblib')"
      ]
    },
    {
      "cell_type": "markdown",
      "metadata": {
        "id": "NI73yKJeup3R"
      },
      "source": [
        "# END"
      ]
    }
  ],
  "metadata": {
    "colab": {
      "provenance": [],
      "toc_visible": true
    },
    "kernelspec": {
      "display_name": "Python 3 (ipykernel)",
      "language": "python",
      "name": "python3"
    },
    "language_info": {
      "codemirror_mode": {
        "name": "ipython",
        "version": 3
      },
      "file_extension": ".py",
      "mimetype": "text/x-python",
      "name": "python",
      "nbconvert_exporter": "python",
      "pygments_lexer": "ipython3",
      "version": "3.9.15"
    }
  },
  "nbformat": 4,
  "nbformat_minor": 0
}